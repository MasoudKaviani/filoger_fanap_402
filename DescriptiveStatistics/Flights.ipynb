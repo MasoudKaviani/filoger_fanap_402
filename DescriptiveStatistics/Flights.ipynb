{
 "cells": [
  {
   "cell_type": "code",
   "execution_count": 2,
   "metadata": {},
   "outputs": [],
   "source": [
    "import pandas as pd"
   ]
  },
  {
   "cell_type": "code",
   "execution_count": 3,
   "metadata": {},
   "outputs": [
    {
     "data": {
      "text/html": [
       "<div>\n",
       "<style scoped>\n",
       "    .dataframe tbody tr th:only-of-type {\n",
       "        vertical-align: middle;\n",
       "    }\n",
       "\n",
       "    .dataframe tbody tr th {\n",
       "        vertical-align: top;\n",
       "    }\n",
       "\n",
       "    .dataframe thead th {\n",
       "        text-align: right;\n",
       "    }\n",
       "</style>\n",
       "<table border=\"1\" class=\"dataframe\">\n",
       "  <thead>\n",
       "    <tr style=\"text-align: right;\">\n",
       "      <th></th>\n",
       "      <th>id</th>\n",
       "      <th>year</th>\n",
       "      <th>month</th>\n",
       "      <th>day</th>\n",
       "      <th>dep_time</th>\n",
       "      <th>sched_dep_time</th>\n",
       "      <th>dep_delay</th>\n",
       "      <th>arr_time</th>\n",
       "      <th>sched_arr_time</th>\n",
       "      <th>arr_delay</th>\n",
       "      <th>...</th>\n",
       "      <th>flight</th>\n",
       "      <th>tailnum</th>\n",
       "      <th>origin</th>\n",
       "      <th>dest</th>\n",
       "      <th>air_time</th>\n",
       "      <th>distance</th>\n",
       "      <th>hour</th>\n",
       "      <th>minute</th>\n",
       "      <th>time_hour</th>\n",
       "      <th>name</th>\n",
       "    </tr>\n",
       "  </thead>\n",
       "  <tbody>\n",
       "    <tr>\n",
       "      <th>0</th>\n",
       "      <td>0</td>\n",
       "      <td>2013</td>\n",
       "      <td>1</td>\n",
       "      <td>1</td>\n",
       "      <td>517.0</td>\n",
       "      <td>515</td>\n",
       "      <td>2.0</td>\n",
       "      <td>830.0</td>\n",
       "      <td>819</td>\n",
       "      <td>11.0</td>\n",
       "      <td>...</td>\n",
       "      <td>1545</td>\n",
       "      <td>N14228</td>\n",
       "      <td>EWR</td>\n",
       "      <td>IAH</td>\n",
       "      <td>227.0</td>\n",
       "      <td>1400</td>\n",
       "      <td>5</td>\n",
       "      <td>15</td>\n",
       "      <td>2013-01-01 05:00:00</td>\n",
       "      <td>United Air Lines Inc.</td>\n",
       "    </tr>\n",
       "    <tr>\n",
       "      <th>1</th>\n",
       "      <td>1</td>\n",
       "      <td>2013</td>\n",
       "      <td>1</td>\n",
       "      <td>1</td>\n",
       "      <td>533.0</td>\n",
       "      <td>529</td>\n",
       "      <td>4.0</td>\n",
       "      <td>850.0</td>\n",
       "      <td>830</td>\n",
       "      <td>20.0</td>\n",
       "      <td>...</td>\n",
       "      <td>1714</td>\n",
       "      <td>N24211</td>\n",
       "      <td>LGA</td>\n",
       "      <td>IAH</td>\n",
       "      <td>227.0</td>\n",
       "      <td>1416</td>\n",
       "      <td>5</td>\n",
       "      <td>29</td>\n",
       "      <td>2013-01-01 05:00:00</td>\n",
       "      <td>United Air Lines Inc.</td>\n",
       "    </tr>\n",
       "    <tr>\n",
       "      <th>2</th>\n",
       "      <td>2</td>\n",
       "      <td>2013</td>\n",
       "      <td>1</td>\n",
       "      <td>1</td>\n",
       "      <td>542.0</td>\n",
       "      <td>540</td>\n",
       "      <td>2.0</td>\n",
       "      <td>923.0</td>\n",
       "      <td>850</td>\n",
       "      <td>33.0</td>\n",
       "      <td>...</td>\n",
       "      <td>1141</td>\n",
       "      <td>N619AA</td>\n",
       "      <td>JFK</td>\n",
       "      <td>MIA</td>\n",
       "      <td>160.0</td>\n",
       "      <td>1089</td>\n",
       "      <td>5</td>\n",
       "      <td>40</td>\n",
       "      <td>2013-01-01 05:00:00</td>\n",
       "      <td>American Airlines Inc.</td>\n",
       "    </tr>\n",
       "    <tr>\n",
       "      <th>3</th>\n",
       "      <td>3</td>\n",
       "      <td>2013</td>\n",
       "      <td>1</td>\n",
       "      <td>1</td>\n",
       "      <td>544.0</td>\n",
       "      <td>545</td>\n",
       "      <td>-1.0</td>\n",
       "      <td>1004.0</td>\n",
       "      <td>1022</td>\n",
       "      <td>-18.0</td>\n",
       "      <td>...</td>\n",
       "      <td>725</td>\n",
       "      <td>N804JB</td>\n",
       "      <td>JFK</td>\n",
       "      <td>BQN</td>\n",
       "      <td>183.0</td>\n",
       "      <td>1576</td>\n",
       "      <td>5</td>\n",
       "      <td>45</td>\n",
       "      <td>2013-01-01 05:00:00</td>\n",
       "      <td>JetBlue Airways</td>\n",
       "    </tr>\n",
       "    <tr>\n",
       "      <th>4</th>\n",
       "      <td>4</td>\n",
       "      <td>2013</td>\n",
       "      <td>1</td>\n",
       "      <td>1</td>\n",
       "      <td>554.0</td>\n",
       "      <td>600</td>\n",
       "      <td>-6.0</td>\n",
       "      <td>812.0</td>\n",
       "      <td>837</td>\n",
       "      <td>-25.0</td>\n",
       "      <td>...</td>\n",
       "      <td>461</td>\n",
       "      <td>N668DN</td>\n",
       "      <td>LGA</td>\n",
       "      <td>ATL</td>\n",
       "      <td>116.0</td>\n",
       "      <td>762</td>\n",
       "      <td>6</td>\n",
       "      <td>0</td>\n",
       "      <td>2013-01-01 06:00:00</td>\n",
       "      <td>Delta Air Lines Inc.</td>\n",
       "    </tr>\n",
       "  </tbody>\n",
       "</table>\n",
       "<p>5 rows × 21 columns</p>\n",
       "</div>"
      ],
      "text/plain": [
       "   id  year  month  day  dep_time  sched_dep_time  dep_delay  arr_time  \\\n",
       "0   0  2013      1    1     517.0             515        2.0     830.0   \n",
       "1   1  2013      1    1     533.0             529        4.0     850.0   \n",
       "2   2  2013      1    1     542.0             540        2.0     923.0   \n",
       "3   3  2013      1    1     544.0             545       -1.0    1004.0   \n",
       "4   4  2013      1    1     554.0             600       -6.0     812.0   \n",
       "\n",
       "   sched_arr_time  arr_delay  ... flight  tailnum origin dest air_time  \\\n",
       "0             819       11.0  ...   1545   N14228    EWR  IAH    227.0   \n",
       "1             830       20.0  ...   1714   N24211    LGA  IAH    227.0   \n",
       "2             850       33.0  ...   1141   N619AA    JFK  MIA    160.0   \n",
       "3            1022      -18.0  ...    725   N804JB    JFK  BQN    183.0   \n",
       "4             837      -25.0  ...    461   N668DN    LGA  ATL    116.0   \n",
       "\n",
       "   distance  hour  minute            time_hour                    name  \n",
       "0      1400     5      15  2013-01-01 05:00:00   United Air Lines Inc.  \n",
       "1      1416     5      29  2013-01-01 05:00:00   United Air Lines Inc.  \n",
       "2      1089     5      40  2013-01-01 05:00:00  American Airlines Inc.  \n",
       "3      1576     5      45  2013-01-01 05:00:00         JetBlue Airways  \n",
       "4       762     6       0  2013-01-01 06:00:00    Delta Air Lines Inc.  \n",
       "\n",
       "[5 rows x 21 columns]"
      ]
     },
     "execution_count": 3,
     "metadata": {},
     "output_type": "execute_result"
    }
   ],
   "source": [
    "data = pd.read_csv('flights.csv')\n",
    "data.head()"
   ]
  },
  {
   "cell_type": "code",
   "execution_count": 3,
   "metadata": {},
   "outputs": [
    {
     "data": {
      "text/plain": [
       "6.89537675731489"
      ]
     },
     "execution_count": 3,
     "metadata": {},
     "output_type": "execute_result"
    }
   ],
   "source": [
    "data['arr_delay'].mean()"
   ]
  },
  {
   "cell_type": "code",
   "execution_count": 4,
   "metadata": {
    "scrolled": true
   },
   "outputs": [
    {
     "data": {
      "text/plain": [
       "0         11.0\n",
       "1         20.0\n",
       "2         33.0\n",
       "3        -18.0\n",
       "4        -25.0\n",
       "          ... \n",
       "336771     NaN\n",
       "336772     NaN\n",
       "336773     NaN\n",
       "336774     NaN\n",
       "336775     NaN\n",
       "Name: arr_delay, Length: 336776, dtype: float64"
      ]
     },
     "execution_count": 4,
     "metadata": {},
     "output_type": "execute_result"
    }
   ],
   "source": [
    "data['arr_delay']"
   ]
  },
  {
   "cell_type": "code",
   "execution_count": 5,
   "metadata": {},
   "outputs": [
    {
     "data": {
      "text/plain": [
       "0.9612355338465307"
      ]
     },
     "execution_count": 5,
     "metadata": {},
     "output_type": "execute_result"
    }
   ],
   "source": [
    "from scipy import stats\n",
    "stats.trim_mean(data['arr_delay'], 0.1)"
   ]
  },
  {
   "cell_type": "code",
   "execution_count": 6,
   "metadata": {},
   "outputs": [
    {
     "data": {
      "text/plain": [
       "-5.0"
      ]
     },
     "execution_count": 6,
     "metadata": {},
     "output_type": "execute_result"
    }
   ],
   "source": [
    "data['arr_delay'].median()"
   ]
  },
  {
   "cell_type": "code",
   "execution_count": 7,
   "metadata": {},
   "outputs": [
    {
     "data": {
      "text/plain": [
       "0   -13.0\n",
       "Name: arr_delay, dtype: float64"
      ]
     },
     "execution_count": 7,
     "metadata": {},
     "output_type": "execute_result"
    }
   ],
   "source": [
    "data['arr_delay'].mode()"
   ]
  },
  {
   "cell_type": "code",
   "execution_count": 8,
   "metadata": {},
   "outputs": [
    {
     "data": {
      "text/plain": [
       "1992.130727102053"
      ]
     },
     "execution_count": 8,
     "metadata": {},
     "output_type": "execute_result"
    }
   ],
   "source": [
    "data['arr_delay'].var()"
   ]
  },
  {
   "cell_type": "code",
   "execution_count": 9,
   "metadata": {},
   "outputs": [
    {
     "data": {
      "text/plain": [
       "44.63329169019526"
      ]
     },
     "execution_count": 9,
     "metadata": {},
     "output_type": "execute_result"
    }
   ],
   "source": [
    "data['arr_delay'].std()"
   ]
  },
  {
   "cell_type": "code",
   "execution_count": 10,
   "metadata": {},
   "outputs": [
    {
     "data": {
      "text/plain": [
       "<AxesSubplot:>"
      ]
     },
     "execution_count": 10,
     "metadata": {},
     "output_type": "execute_result"
    },
    {
     "data": {
      "image/png": "[encoded data removed]",
      "text/plain": [
       "<Figure size 432x288 with 1 Axes>"
      ]
     },
     "metadata": {
      "needs_background": "light"
     },
     "output_type": "display_data"
    }
   ],
   "source": [
    "data['arr_delay'].hist(bins=200)"
   ]
  },
  {
   "cell_type": "code",
   "execution_count": 11,
   "metadata": {},
   "outputs": [
    {
     "data": {
      "text/plain": [
       "<AxesSubplot:>"
      ]
     },
     "execution_count": 11,
     "metadata": {},
     "output_type": "execute_result"
    },
    {
     "data": {
      "image/png": "[encoded data removed]",
      "text/plain": [
       "<Figure size 432x288 with 1 Axes>"
      ]
     },
     "metadata": {
      "needs_background": "light"
     },
     "output_type": "display_data"
    }
   ],
   "source": [
    "data['arr_delay'][data['arr_delay'] < 100].hist(bins=80)"
   ]
  },
  {
   "cell_type": "code",
   "execution_count": 12,
   "metadata": {},
   "outputs": [
    {
     "data": {
      "text/plain": [
       "<AxesSubplot:>"
      ]
     },
     "execution_count": 12,
     "metadata": {},
     "output_type": "execute_result"
    },
    {
     "data": {
      "image/png": "[encoded data removed]",
      "text/plain": [
       "<Figure size 432x288 with 1 Axes>"
      ]
     },
     "metadata": {
      "needs_background": "light"
     },
     "output_type": "display_data"
    }
   ],
   "source": [
    "data['arr_delay'][data['arr_delay'] < 100].hist(bins=200)"
   ]
  },
  {
   "cell_type": "code",
   "execution_count": 13,
   "metadata": {},
   "outputs": [
    {
     "data": {
      "text/plain": [
       "<AxesSubplot:>"
      ]
     },
     "execution_count": 13,
     "metadata": {},
     "output_type": "execute_result"
    },
    {
     "data": {
      "image/png": "[encoded data removed]",
      "text/plain": [
       "<Figure size 432x288 with 1 Axes>"
      ]
     },
     "metadata": {
      "needs_background": "light"
     },
     "output_type": "display_data"
    }
   ],
   "source": [
    "data['arr_delay'][data['arr_delay'] < 100].hist(bins=20)"
   ]
  },
  {
   "cell_type": "code",
   "execution_count": 14,
   "metadata": {},
   "outputs": [
    {
     "data": {
      "text/plain": [
       "44.63329169019526"
      ]
     },
     "execution_count": 14,
     "metadata": {},
     "output_type": "execute_result"
    }
   ],
   "source": [
    "data['arr_delay'].std()"
   ]
  },
  {
   "cell_type": "code",
   "execution_count": 15,
   "metadata": {},
   "outputs": [
    {
     "data": {
      "text/plain": [
       "-127.00449831327089"
      ]
     },
     "execution_count": 15,
     "metadata": {},
     "output_type": "execute_result"
    }
   ],
   "source": [
    "data['arr_delay'].mean() - (3 * data['arr_delay'].std())"
   ]
  },
  {
   "cell_type": "code",
   "execution_count": 16,
   "metadata": {},
   "outputs": [
    {
     "data": {
      "text/plain": [
       "140.79525182790067"
      ]
     },
     "execution_count": 16,
     "metadata": {},
     "output_type": "execute_result"
    }
   ],
   "source": [
    "data['arr_delay'].mean() + (3 * data['arr_delay'].std())"
   ]
  },
  {
   "cell_type": "code",
   "execution_count": 17,
   "metadata": {},
   "outputs": [
    {
     "data": {
      "text/plain": [
       "3.7168174804571863"
      ]
     },
     "execution_count": 17,
     "metadata": {},
     "output_type": "execute_result"
    }
   ],
   "source": [
    "data['arr_delay'].skew()"
   ]
  },
  {
   "cell_type": "code",
   "execution_count": 18,
   "metadata": {},
   "outputs": [
    {
     "data": {
      "text/plain": [
       "29.233043998766775"
      ]
     },
     "execution_count": 18,
     "metadata": {},
     "output_type": "execute_result"
    }
   ],
   "source": [
    "data['arr_delay'].kurtosis()"
   ]
  },
  {
   "cell_type": "code",
   "execution_count": null,
   "metadata": {},
   "outputs": [
    {
     "data": {
      "text/html": [
       "<div>\n",
       "<style scoped>\n",
       "    .dataframe tbody tr th:only-of-type {\n",
       "        vertical-align: middle;\n",
       "    }\n",
       "\n",
       "    .dataframe tbody tr th {\n",
       "        vertical-align: top;\n",
       "    }\n",
       "\n",
       "    .dataframe thead th {\n",
       "        text-align: right;\n",
       "    }\n",
       "</style>\n",
       "<table border=\"1\" class=\"dataframe\">\n",
       "  <thead>\n",
       "    <tr style=\"text-align: right;\">\n",
       "      <th></th>\n",
       "      <th>id</th>\n",
       "      <th>year</th>\n",
       "      <th>month</th>\n",
       "      <th>day</th>\n",
       "      <th>dep_time</th>\n",
       "      <th>sched_dep_time</th>\n",
       "      <th>dep_delay</th>\n",
       "      <th>arr_time</th>\n",
       "      <th>sched_arr_time</th>\n",
       "      <th>arr_delay</th>\n",
       "      <th>flight</th>\n",
       "      <th>air_time</th>\n",
       "      <th>distance</th>\n",
       "      <th>hour</th>\n",
       "      <th>minute</th>\n",
       "    </tr>\n",
       "  </thead>\n",
       "  <tbody>\n",
       "    <tr>\n",
       "      <th>id</th>\n",
       "      <td>1.000000</td>\n",
       "      <td>NaN</td>\n",
       "      <td>0.068423</td>\n",
       "      <td>0.087983</td>\n",
       "      <td>0.002409</td>\n",
       "      <td>0.004131</td>\n",
       "      <td>0.039394</td>\n",
       "      <td>-0.021611</td>\n",
       "      <td>-0.011347</td>\n",
       "      <td>-0.037711</td>\n",
       "      <td>0.004178</td>\n",
       "      <td>-0.047133</td>\n",
       "      <td>0.005529</td>\n",
       "      <td>0.002773</td>\n",
       "      <td>0.022435</td>\n",
       "    </tr>\n",
       "    <tr>\n",
       "      <th>year</th>\n",
       "      <td>NaN</td>\n",
       "      <td>NaN</td>\n",
       "      <td>NaN</td>\n",
       "      <td>NaN</td>\n",
       "      <td>NaN</td>\n",
       "      <td>NaN</td>\n",
       "      <td>NaN</td>\n",
       "      <td>NaN</td>\n",
       "      <td>NaN</td>\n",
       "      <td>NaN</td>\n",
       "      <td>NaN</td>\n",
       "      <td>NaN</td>\n",
       "      <td>NaN</td>\n",
       "      <td>NaN</td>\n",
       "      <td>NaN</td>\n",
       "    </tr>\n",
       "    <tr>\n",
       "      <th>month</th>\n",
       "      <td>0.068423</td>\n",
       "      <td>NaN</td>\n",
       "      <td>1.000000</td>\n",
       "      <td>0.002923</td>\n",
       "      <td>-0.004394</td>\n",
       "      <td>-0.004647</td>\n",
       "      <td>-0.016497</td>\n",
       "      <td>-0.003759</td>\n",
       "      <td>-0.004762</td>\n",
       "      <td>-0.014652</td>\n",
       "      <td>0.004478</td>\n",
       "      <td>0.005213</td>\n",
       "      <td>0.019678</td>\n",
       "      <td>-0.005464</td>\n",
       "      <td>0.014267</td>\n",
       "    </tr>\n",
       "    <tr>\n",
       "      <th>day</th>\n",
       "      <td>0.087983</td>\n",
       "      <td>NaN</td>\n",
       "      <td>0.002923</td>\n",
       "      <td>1.000000</td>\n",
       "      <td>-0.000463</td>\n",
       "      <td>-0.000080</td>\n",
       "      <td>0.006105</td>\n",
       "      <td>-0.004305</td>\n",
       "      <td>-0.001632</td>\n",
       "      <td>-0.000133</td>\n",
       "      <td>-0.000430</td>\n",
       "      <td>0.002645</td>\n",
       "      <td>0.004180</td>\n",
       "      <td>-0.000123</td>\n",
       "      <td>0.001157</td>\n",
       "    </tr>\n",
       "    <tr>\n",
       "      <th>dep_time</th>\n",
       "      <td>0.002409</td>\n",
       "      <td>NaN</td>\n",
       "      <td>-0.004394</td>\n",
       "      <td>-0.000463</td>\n",
       "      <td>1.000000</td>\n",
       "      <td>0.971714</td>\n",
       "      <td>0.289806</td>\n",
       "      <td>0.803024</td>\n",
       "      <td>0.877109</td>\n",
       "      <td>0.205734</td>\n",
       "      <td>0.034215</td>\n",
       "      <td>-0.030119</td>\n",
       "      <td>-0.028804</td>\n",
       "      <td>0.969437</td>\n",
       "      <td>0.090737</td>\n",
       "    </tr>\n",
       "    <tr>\n",
       "      <th>sched_dep_time</th>\n",
       "      <td>0.004131</td>\n",
       "      <td>NaN</td>\n",
       "      <td>-0.004647</td>\n",
       "      <td>-0.000080</td>\n",
       "      <td>0.971714</td>\n",
       "      <td>1.000000</td>\n",
       "      <td>0.232511</td>\n",
       "      <td>0.785586</td>\n",
       "      <td>0.882137</td>\n",
       "      <td>0.156957</td>\n",
       "      <td>0.032365</td>\n",
       "      <td>-0.029447</td>\n",
       "      <td>-0.032579</td>\n",
       "      <td>0.997958</td>\n",
       "      <td>0.094532</td>\n",
       "    </tr>\n",
       "    <tr>\n",
       "      <th>dep_delay</th>\n",
       "      <td>0.039394</td>\n",
       "      <td>NaN</td>\n",
       "      <td>-0.016497</td>\n",
       "      <td>0.006105</td>\n",
       "      <td>0.289806</td>\n",
       "      <td>0.232511</td>\n",
       "      <td>1.000000</td>\n",
       "      <td>0.191679</td>\n",
       "      <td>0.217250</td>\n",
       "      <td>0.626361</td>\n",
       "      <td>-0.027184</td>\n",
       "      <td>0.078865</td>\n",
       "      <td>0.076324</td>\n",
       "      <td>0.229805</td>\n",
       "      <td>0.062636</td>\n",
       "    </tr>\n",
       "    <tr>\n",
       "      <th>arr_time</th>\n",
       "      <td>-0.021611</td>\n",
       "      <td>NaN</td>\n",
       "      <td>-0.003759</td>\n",
       "      <td>-0.004305</td>\n",
       "      <td>0.803024</td>\n",
       "      <td>0.785586</td>\n",
       "      <td>0.191679</td>\n",
       "      <td>1.000000</td>\n",
       "      <td>0.870649</td>\n",
       "      <td>0.119658</td>\n",
       "      <td>0.010006</td>\n",
       "      <td>0.056807</td>\n",
       "      <td>0.052827</td>\n",
       "      <td>0.784152</td>\n",
       "      <td>0.055942</td>\n",
       "    </tr>\n",
       "    <tr>\n",
       "      <th>sched_arr_time</th>\n",
       "      <td>-0.011347</td>\n",
       "      <td>NaN</td>\n",
       "      <td>-0.004762</td>\n",
       "      <td>-0.001632</td>\n",
       "      <td>0.877109</td>\n",
       "      <td>0.882137</td>\n",
       "      <td>0.217250</td>\n",
       "      <td>0.870649</td>\n",
       "      <td>1.000000</td>\n",
       "      <td>0.122800</td>\n",
       "      <td>0.001905</td>\n",
       "      <td>0.076897</td>\n",
       "      <td>0.072146</td>\n",
       "      <td>0.880184</td>\n",
       "      <td>0.062724</td>\n",
       "    </tr>\n",
       "    <tr>\n",
       "      <th>arr_delay</th>\n",
       "      <td>-0.037711</td>\n",
       "      <td>NaN</td>\n",
       "      <td>-0.014652</td>\n",
       "      <td>-0.000133</td>\n",
       "      <td>0.205734</td>\n",
       "      <td>0.156957</td>\n",
       "      <td>0.626361</td>\n",
       "      <td>0.119658</td>\n",
       "      <td>0.122800</td>\n",
       "      <td>1.000000</td>\n",
       "      <td>0.067617</td>\n",
       "      <td>-0.023115</td>\n",
       "      <td>-0.074101</td>\n",
       "      <td>0.156247</td>\n",
       "      <td>0.022519</td>\n",
       "    </tr>\n",
       "    <tr>\n",
       "      <th>flight</th>\n",
       "      <td>0.004178</td>\n",
       "      <td>NaN</td>\n",
       "      <td>0.004478</td>\n",
       "      <td>-0.000430</td>\n",
       "      <td>0.034215</td>\n",
       "      <td>0.032365</td>\n",
       "      <td>-0.027184</td>\n",
       "      <td>0.010006</td>\n",
       "      <td>0.001905</td>\n",
       "      <td>0.067617</td>\n",
       "      <td>1.000000</td>\n",
       "      <td>-0.478658</td>\n",
       "      <td>-0.483304</td>\n",
       "      <td>0.032071</td>\n",
       "      <td>0.004026</td>\n",
       "    </tr>\n",
       "    <tr>\n",
       "      <th>air_time</th>\n",
       "      <td>-0.047133</td>\n",
       "      <td>NaN</td>\n",
       "      <td>0.005213</td>\n",
       "      <td>0.002645</td>\n",
       "      <td>-0.030119</td>\n",
       "      <td>-0.029447</td>\n",
       "      <td>0.078865</td>\n",
       "      <td>0.056807</td>\n",
       "      <td>0.076897</td>\n",
       "      <td>-0.023115</td>\n",
       "      <td>-0.478658</td>\n",
       "      <td>1.000000</td>\n",
       "      <td>0.984445</td>\n",
       "      <td>-0.032251</td>\n",
       "      <td>0.033551</td>\n",
       "    </tr>\n",
       "    <tr>\n",
       "      <th>distance</th>\n",
       "      <td>0.005529</td>\n",
       "      <td>NaN</td>\n",
       "      <td>0.019678</td>\n",
       "      <td>0.004180</td>\n",
       "      <td>-0.028804</td>\n",
       "      <td>-0.032579</td>\n",
       "      <td>0.076324</td>\n",
       "      <td>0.052827</td>\n",
       "      <td>0.072146</td>\n",
       "      <td>-0.074101</td>\n",
       "      <td>-0.483304</td>\n",
       "      <td>0.984445</td>\n",
       "      <td>1.000000</td>\n",
       "      <td>-0.035453</td>\n",
       "      <td>0.035296</td>\n",
       "    </tr>\n",
       "    <tr>\n",
       "      <th>hour</th>\n",
       "      <td>0.002773</td>\n",
       "      <td>NaN</td>\n",
       "      <td>-0.005464</td>\n",
       "      <td>-0.000123</td>\n",
       "      <td>0.969437</td>\n",
       "      <td>0.997958</td>\n",
       "      <td>0.229805</td>\n",
       "      <td>0.784152</td>\n",
       "      <td>0.880184</td>\n",
       "      <td>0.156247</td>\n",
       "      <td>0.032071</td>\n",
       "      <td>-0.032251</td>\n",
       "      <td>-0.035453</td>\n",
       "      <td>1.000000</td>\n",
       "      <td>0.034153</td>\n",
       "    </tr>\n",
       "    <tr>\n",
       "      <th>minute</th>\n",
       "      <td>0.022435</td>\n",
       "      <td>NaN</td>\n",
       "      <td>0.014267</td>\n",
       "      <td>0.001157</td>\n",
       "      <td>0.090737</td>\n",
       "      <td>0.094532</td>\n",
       "      <td>0.062636</td>\n",
       "      <td>0.055942</td>\n",
       "      <td>0.062724</td>\n",
       "      <td>0.022519</td>\n",
       "      <td>0.004026</td>\n",
       "      <td>0.033551</td>\n",
       "      <td>0.035296</td>\n",
       "      <td>0.034153</td>\n",
       "      <td>1.000000</td>\n",
       "    </tr>\n",
       "  </tbody>\n",
       "</table>\n",
       "</div>"
      ],
      "text/plain": [
       "                      id  year     month       day  dep_time  sched_dep_time  \\\n",
       "id              1.000000   NaN  0.068423  0.087983  0.002409        0.004131   \n",
       "year                 NaN   NaN       NaN       NaN       NaN             NaN   \n",
       "month           0.068423   NaN  1.000000  0.002923 -0.004394       -0.004647   \n",
       "day             0.087983   NaN  0.002923  1.000000 -0.000463       -0.000080   \n",
       "dep_time        0.002409   NaN -0.004394 -0.000463  1.000000        0.971714   \n",
       "sched_dep_time  0.004131   NaN -0.004647 -0.000080  0.971714        1.000000   \n",
       "dep_delay       0.039394   NaN -0.016497  0.006105  0.289806        0.232511   \n",
       "arr_time       -0.021611   NaN -0.003759 -0.004305  0.803024        0.785586   \n",
       "sched_arr_time -0.011347   NaN -0.004762 -0.001632  0.877109        0.882137   \n",
       "arr_delay      -0.037711   NaN -0.014652 -0.000133  0.205734        0.156957   \n",
       "flight          0.004178   NaN  0.004478 -0.000430  0.034215        0.032365   \n",
       "air_time       -0.047133   NaN  0.005213  0.002645 -0.030119       -0.029447   \n",
       "distance        0.005529   NaN  0.019678  0.004180 -0.028804       -0.032579   \n",
       "hour            0.002773   NaN -0.005464 -0.000123  0.969437        0.997958   \n",
       "minute          0.022435   NaN  0.014267  0.001157  0.090737        0.094532   \n",
       "\n",
       "                dep_delay  arr_time  sched_arr_time  arr_delay    flight  \\\n",
       "id               0.039394 -0.021611       -0.011347  -0.037711  0.004178   \n",
       "year                  NaN       NaN             NaN        NaN       NaN   \n",
       "month           -0.016497 -0.003759       -0.004762  -0.014652  0.004478   \n",
       "day              0.006105 -0.004305       -0.001632  -0.000133 -0.000430   \n",
       "dep_time         0.289806  0.803024        0.877109   0.205734  0.034215   \n",
       "sched_dep_time   0.232511  0.785586        0.882137   0.156957  0.032365   \n",
       "dep_delay        1.000000  0.191679        0.217250   0.626361 -0.027184   \n",
       "arr_time         0.191679  1.000000        0.870649   0.119658  0.010006   \n",
       "sched_arr_time   0.217250  0.870649        1.000000   0.122800  0.001905   \n",
       "arr_delay        0.626361  0.119658        0.122800   1.000000  0.067617   \n",
       "flight          -0.027184  0.010006        0.001905   0.067617  1.000000   \n",
       "air_time         0.078865  0.056807        0.076897  -0.023115 -0.478658   \n",
       "distance         0.076324  0.052827        0.072146  -0.074101 -0.483304   \n",
       "hour             0.229805  0.784152        0.880184   0.156247  0.032071   \n",
       "minute           0.062636  0.055942        0.062724   0.022519  0.004026   \n",
       "\n",
       "                air_time  distance      hour    minute  \n",
       "id             -0.047133  0.005529  0.002773  0.022435  \n",
       "year                 NaN       NaN       NaN       NaN  \n",
       "month           0.005213  0.019678 -0.005464  0.014267  \n",
       "day             0.002645  0.004180 -0.000123  0.001157  \n",
       "dep_time       -0.030119 -0.028804  0.969437  0.090737  \n",
       "sched_dep_time -0.029447 -0.032579  0.997958  0.094532  \n",
       "dep_delay       0.078865  0.076324  0.229805  0.062636  \n",
       "arr_time        0.056807  0.052827  0.784152  0.055942  \n",
       "sched_arr_time  0.076897  0.072146  0.880184  0.062724  \n",
       "arr_delay      -0.023115 -0.074101  0.156247  0.022519  \n",
       "flight         -0.478658 -0.483304  0.032071  0.004026  \n",
       "air_time        1.000000  0.984445 -0.032251  0.033551  \n",
       "distance        0.984445  1.000000 -0.035453  0.035296  \n",
       "hour           -0.032251 -0.035453  1.000000  0.034153  \n",
       "minute          0.033551  0.035296  0.034153  1.000000  "
      ]
     },
     "execution_count": 4,
     "metadata": {},
     "output_type": "execute_result"
    }
   ],
   "source": [
    "data.corr()"
   ]
  },
  {
   "cell_type": "code",
   "execution_count": 4,
   "metadata": {},
   "outputs": [
    {
     "data": {
      "text/plain": [
       "id                0.018613\n",
       "year                   NaN\n",
       "month            -0.017382\n",
       "day              -0.000319\n",
       "dep_time          0.232306\n",
       "sched_dep_time    0.173896\n",
       "dep_delay         0.914803\n",
       "arr_time          0.024482\n",
       "sched_arr_time    0.133261\n",
       "arr_delay         1.000000\n",
       "flight            0.072862\n",
       "air_time         -0.035297\n",
       "distance         -0.061868\n",
       "hour              0.173456\n",
       "minute            0.021522\n",
       "Name: arr_delay, dtype: float64"
      ]
     },
     "execution_count": 4,
     "metadata": {},
     "output_type": "execute_result"
    }
   ],
   "source": [
    "data.corr()['arr_delay']"
   ]
  },
  {
   "cell_type": "code",
   "execution_count": null,
   "metadata": {},
   "outputs": [],
   "source": [
    "# Masoud Kaviani"
   ]
  }
 ],
 "metadata": {
  "kernelspec": {
   "display_name": "Python 3 (ipykernel)",
   "language": "python",
   "name": "python3"
  },
  "language_info": {
   "codemirror_mode": {
    "name": "ipython",
    "version": 3
   },
   "file_extension": ".py",
   "mimetype": "text/x-python",
   "name": "python",
   "nbconvert_exporter": "python",
   "pygments_lexer": "ipython3",
   "version": "3.11.3"
  }
 },
 "nbformat": 4,
 "nbformat_minor": 4
}
