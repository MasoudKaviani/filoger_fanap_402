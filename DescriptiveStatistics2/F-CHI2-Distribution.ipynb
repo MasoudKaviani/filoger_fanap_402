{
 "cells": [
  {
   "cell_type": "code",
   "execution_count": 1,
   "metadata": {},
   "outputs": [],
   "source": [
    "from scipy.stats import f\n",
    "import matplotlib.pyplot as plt"
   ]
  },
  {
   "cell_type": "code",
   "execution_count": 2,
   "metadata": {},
   "outputs": [],
   "source": [
    "data = f.rvs(30, 10,size=10000)"
   ]
  },
  {
   "cell_type": "code",
   "execution_count": 3,
   "metadata": {},
   "outputs": [
    {
     "data": {
      "text/plain": [
       "(array([1.13450034e-01, 5.95077538e-01, 8.60079694e-01, 7.38067393e-01,\n",
       "        5.52694318e-01, 4.19122957e-01, 2.76989329e-01, 1.95219682e-01,\n",
       "        1.52836461e-01, 9.76098408e-02, 6.76419072e-02, 5.77953005e-02,\n",
       "        3.46771803e-02, 2.18337802e-02, 2.14056668e-02, 1.75526468e-02,\n",
       "        1.15590601e-02, 5.13736004e-03, 9.41849341e-03, 5.56547338e-03,\n",
       "        4.28113337e-03, 4.70924671e-03, 2.99679336e-03, 2.56868002e-03,\n",
       "        1.28434001e-03, 1.28434001e-03, 4.28113337e-04, 1.71245335e-03,\n",
       "        4.28113337e-04, 2.56868002e-03, 0.00000000e+00, 4.28113337e-04,\n",
       "        1.28434001e-03, 0.00000000e+00, 0.00000000e+00, 4.28113337e-04,\n",
       "        4.28113337e-04, 0.00000000e+00, 0.00000000e+00, 0.00000000e+00,\n",
       "        1.28434001e-03, 0.00000000e+00, 0.00000000e+00, 0.00000000e+00,\n",
       "        0.00000000e+00, 8.56226674e-04, 0.00000000e+00, 0.00000000e+00,\n",
       "        0.00000000e+00, 4.28113337e-04]),\n",
       " array([ 0.17646203,  0.41004503,  0.64362804,  0.87721104,  1.11079405,\n",
       "         1.34437705,  1.57796006,  1.81154307,  2.04512607,  2.27870908,\n",
       "         2.51229208,  2.74587509,  2.97945809,  3.2130411 ,  3.44662411,\n",
       "         3.68020711,  3.91379012,  4.14737312,  4.38095613,  4.61453913,\n",
       "         4.84812214,  5.08170515,  5.31528815,  5.54887116,  5.78245416,\n",
       "         6.01603717,  6.24962017,  6.48320318,  6.71678619,  6.95036919,\n",
       "         7.1839522 ,  7.4175352 ,  7.65111821,  7.88470121,  8.11828422,\n",
       "         8.35186722,  8.58545023,  8.81903324,  9.05261624,  9.28619925,\n",
       "         9.51978225,  9.75336526,  9.98694826, 10.22053127, 10.45411428,\n",
       "        10.68769728, 10.92128029, 11.15486329, 11.3884463 , 11.6220293 ,\n",
       "        11.85561231]),\n",
       " <BarContainer object of 50 artists>)"
      ]
     },
     "execution_count": 3,
     "metadata": {},
     "output_type": "execute_result"
    },
    {
     "data": {
      "image/png": "[encoded data removed]",
      "text/plain": [
       "<Figure size 432x288 with 1 Axes>"
      ]
     },
     "metadata": {
      "needs_background": "light"
     },
     "output_type": "display_data"
    }
   ],
   "source": [
    "plt.hist(data, density=True, bins=50)"
   ]
  },
  {
   "cell_type": "code",
   "execution_count": 4,
   "metadata": {},
   "outputs": [],
   "source": [
    "from scipy.stats import chi2"
   ]
  },
  {
   "cell_type": "code",
   "execution_count": 5,
   "metadata": {},
   "outputs": [],
   "source": [
    "data = chi2.rvs(1000, size=10000)"
   ]
  },
  {
   "cell_type": "code",
   "execution_count": 6,
   "metadata": {},
   "outputs": [
    {
     "data": {
      "text/plain": [
       "(array([  1.,   1.,   4.,   1.,  10.,   6.,  21.,  33.,  35.,  63., 102.,\n",
       "        137., 149., 227., 261., 350., 379., 449., 561., 539., 572., 635.,\n",
       "        617., 633., 590., 597., 543., 473., 416., 332., 303., 239., 182.,\n",
       "        130., 112.,  89.,  65.,  38.,  36.,  17.,  23.,   7.,   7.,   4.,\n",
       "          4.,   2.,   1.,   1.,   2.,   1.]),\n",
       " array([ 837.19626395,  844.33322076,  851.47017757,  858.60713438,\n",
       "         865.74409119,  872.881048  ,  880.01800481,  887.15496161,\n",
       "         894.29191842,  901.42887523,  908.56583204,  915.70278885,\n",
       "         922.83974566,  929.97670247,  937.11365928,  944.25061609,\n",
       "         951.38757289,  958.5245297 ,  965.66148651,  972.79844332,\n",
       "         979.93540013,  987.07235694,  994.20931375, 1001.34627056,\n",
       "        1008.48322736, 1015.62018417, 1022.75714098, 1029.89409779,\n",
       "        1037.0310546 , 1044.16801141, 1051.30496822, 1058.44192503,\n",
       "        1065.57888184, 1072.71583864, 1079.85279545, 1086.98975226,\n",
       "        1094.12670907, 1101.26366588, 1108.40062269, 1115.5375795 ,\n",
       "        1122.67453631, 1129.81149311, 1136.94844992, 1144.08540673,\n",
       "        1151.22236354, 1158.35932035, 1165.49627716, 1172.63323397,\n",
       "        1179.77019078, 1186.90714759, 1194.04410439]),\n",
       " <BarContainer object of 50 artists>)"
      ]
     },
     "execution_count": 6,
     "metadata": {},
     "output_type": "execute_result"
    },
    {
     "data": {
      "image/png": "[encoded data removed]",
      "text/plain": [
       "<Figure size 432x288 with 1 Axes>"
      ]
     },
     "metadata": {
      "needs_background": "light"
     },
     "output_type": "display_data"
    }
   ],
   "source": [
    "plt.hist(data, bins=50)"
   ]
  },
  {
   "cell_type": "code",
   "execution_count": null,
   "metadata": {},
   "outputs": [],
   "source": [
    "# Masoud Kaviani"
   ]
  }
 ],
 "metadata": {
  "kernelspec": {
   "display_name": "Python 3 (ipykernel)",
   "language": "python",
   "name": "python3"
  },
  "language_info": {
   "codemirror_mode": {
    "name": "ipython",
    "version": 3
   },
   "file_extension": ".py",
   "mimetype": "text/x-python",
   "name": "python",
   "nbconvert_exporter": "python",
   "pygments_lexer": "ipython3",
   "version": "3.9.12"
  }
 },
 "nbformat": 4,
 "nbformat_minor": 4
}
