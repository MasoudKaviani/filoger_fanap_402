{
 "cells": [
  {
   "cell_type": "code",
   "execution_count": 1,
   "metadata": {},
   "outputs": [],
   "source": [
    "import numpy as np\n",
    "import pandas as pd\n",
    "import scipy.stats as st\n",
    "from scipy.stats import entropy\n",
    "from scipy.stats import norm\n",
    "from scipy.stats import poisson\n",
    "from scipy.stats import kstest\n",
    "import matplotlib.pyplot as plt"
   ]
  },
  {
   "cell_type": "code",
   "execution_count": 2,
   "metadata": {},
   "outputs": [
    {
     "data": {
      "text/html": [
       "<div>\n",
       "<style scoped>\n",
       "    .dataframe tbody tr th:only-of-type {\n",
       "        vertical-align: middle;\n",
       "    }\n",
       "\n",
       "    .dataframe tbody tr th {\n",
       "        vertical-align: top;\n",
       "    }\n",
       "\n",
       "    .dataframe thead th {\n",
       "        text-align: right;\n",
       "    }\n",
       "</style>\n",
       "<table border=\"1\" class=\"dataframe\">\n",
       "  <thead>\n",
       "    <tr style=\"text-align: right;\">\n",
       "      <th></th>\n",
       "      <th>Gender</th>\n",
       "      <th>Height</th>\n",
       "      <th>Weight</th>\n",
       "    </tr>\n",
       "  </thead>\n",
       "  <tbody>\n",
       "    <tr>\n",
       "      <th>0</th>\n",
       "      <td>Male</td>\n",
       "      <td>73.847017</td>\n",
       "      <td>241.893563</td>\n",
       "    </tr>\n",
       "    <tr>\n",
       "      <th>1</th>\n",
       "      <td>Male</td>\n",
       "      <td>68.781904</td>\n",
       "      <td>162.310473</td>\n",
       "    </tr>\n",
       "    <tr>\n",
       "      <th>2</th>\n",
       "      <td>Male</td>\n",
       "      <td>74.110105</td>\n",
       "      <td>212.740856</td>\n",
       "    </tr>\n",
       "    <tr>\n",
       "      <th>3</th>\n",
       "      <td>Male</td>\n",
       "      <td>71.730978</td>\n",
       "      <td>220.042470</td>\n",
       "    </tr>\n",
       "    <tr>\n",
       "      <th>4</th>\n",
       "      <td>Male</td>\n",
       "      <td>69.881796</td>\n",
       "      <td>206.349801</td>\n",
       "    </tr>\n",
       "  </tbody>\n",
       "</table>\n",
       "</div>"
      ],
      "text/plain": [
       "  Gender     Height      Weight\n",
       "0   Male  73.847017  241.893563\n",
       "1   Male  68.781904  162.310473\n",
       "2   Male  74.110105  212.740856\n",
       "3   Male  71.730978  220.042470\n",
       "4   Male  69.881796  206.349801"
      ]
     },
     "execution_count": 2,
     "metadata": {},
     "output_type": "execute_result"
    }
   ],
   "source": [
    "whData = pd.read_csv('weight-height.csv')\n",
    "whData.head()"
   ]
  },
  {
   "cell_type": "code",
   "execution_count": 3,
   "metadata": {},
   "outputs": [
    {
     "name": "stdout",
     "output_type": "stream",
     "text": [
      "5000\n",
      "5000\n"
     ]
    }
   ],
   "source": [
    "males_h = whData[whData['Gender'] == 'Male']['Height']\n",
    "females_h = whData[whData['Gender'] == 'Female']['Height']\n",
    "print(len(males_h))\n",
    "print(len(females_h))"
   ]
  },
  {
   "cell_type": "code",
   "execution_count": 4,
   "metadata": {},
   "outputs": [],
   "source": [
    "mcount, mdevision = np.histogram(males_h, bins=100)\n",
    "fcount, fdevision = np.histogram(females_h, bins=100)"
   ]
  },
  {
   "cell_type": "code",
   "execution_count": 5,
   "metadata": {},
   "outputs": [
    {
     "data": {
      "text/plain": [
       "array([  1,   0,   0,   0,   1,   0,   0,   3,   2,   3,   1,   5,   5,\n",
       "         4,   6,   5,   8,   9,   9,  12,  14,   9,  16,  16,  19,  29,\n",
       "        34,  27,  20,  37,  47,  56,  60,  63,  59,  70,  77,  78,  88,\n",
       "        89,  96, 101, 125, 131, 127, 129, 148, 148, 150, 135, 122, 168,\n",
       "       145, 139, 151, 134, 124, 112, 144,  93, 133, 109,  98, 115, 113,\n",
       "       103,  83,  79,  62,  61,  46,  50,  40,  43,  42,  34,  28,  30,\n",
       "        16,  20,  13,  11,   8,  11,   5,   8,   4,   7,   8,   4,   3,\n",
       "         1,   3,   0,   0,   1,   0,   2,   1,   1], dtype=int64)"
      ]
     },
     "execution_count": 5,
     "metadata": {},
     "output_type": "execute_result"
    }
   ],
   "source": [
    "mcount"
   ]
  },
  {
   "cell_type": "code",
   "execution_count": 6,
   "metadata": {},
   "outputs": [
    {
     "data": {
      "text/plain": [
       "array([58.40690493, 58.61282331, 58.81874168, 59.02466005, 59.23057843,\n",
       "       59.4364968 , 59.64241518, 59.84833355, 60.05425192, 60.2601703 ,\n",
       "       60.46608867, 60.67200705, 60.87792542, 61.0838438 , 61.28976217,\n",
       "       61.49568054, 61.70159892, 61.90751729, 62.11343567, 62.31935404,\n",
       "       62.52527241, 62.73119079, 62.93710916, 63.14302754, 63.34894591,\n",
       "       63.55486429, 63.76078266, 63.96670103, 64.17261941, 64.37853778,\n",
       "       64.58445616, 64.79037453, 64.9962929 , 65.20221128, 65.40812965,\n",
       "       65.61404803, 65.8199664 , 66.02588478, 66.23180315, 66.43772152,\n",
       "       66.6436399 , 66.84955827, 67.05547665, 67.26139502, 67.46731339,\n",
       "       67.67323177, 67.87915014, 68.08506852, 68.29098689, 68.49690526,\n",
       "       68.70282364, 68.90874201, 69.11466039, 69.32057876, 69.52649714,\n",
       "       69.73241551, 69.93833388, 70.14425226, 70.35017063, 70.55608901,\n",
       "       70.76200738, 70.96792575, 71.17384413, 71.3797625 , 71.58568088,\n",
       "       71.79159925, 71.99751763, 72.203436  , 72.40935437, 72.61527275,\n",
       "       72.82119112, 73.0271095 , 73.23302787, 73.43894624, 73.64486462,\n",
       "       73.85078299, 74.05670137, 74.26261974, 74.46853812, 74.67445649,\n",
       "       74.88037486, 75.08629324, 75.29221161, 75.49812999, 75.70404836,\n",
       "       75.90996673, 76.11588511, 76.32180348, 76.52772186, 76.73364023,\n",
       "       76.9395586 , 77.14547698, 77.35139535, 77.55731373, 77.7632321 ,\n",
       "       77.96915048, 78.17506885, 78.38098722, 78.5869056 , 78.79282397,\n",
       "       78.99874235])"
      ]
     },
     "execution_count": 6,
     "metadata": {},
     "output_type": "execute_result"
    }
   ],
   "source": [
    "mdevision"
   ]
  },
  {
   "cell_type": "code",
   "execution_count": 7,
   "metadata": {},
   "outputs": [
    {
     "data": {
      "text/plain": [
       "KstestResult(statistic=0.05, pvalue=0.9996892272702655)"
      ]
     },
     "execution_count": 7,
     "metadata": {},
     "output_type": "execute_result"
    }
   ],
   "source": [
    "kstest(mcount, fcount)"
   ]
  },
  {
   "cell_type": "code",
   "execution_count": 8,
   "metadata": {},
   "outputs": [
    {
     "data": {
      "text/plain": [
       "[<matplotlib.lines.Line2D at 0x2bfe580bdc0>]"
      ]
     },
     "execution_count": 8,
     "metadata": {},
     "output_type": "execute_result"
    },
    {
     "data": {
      "image/png": "[encoded data removed]",
      "text/plain": [
       "<Figure size 432x288 with 1 Axes>"
      ]
     },
     "metadata": {
      "needs_background": "light"
     },
     "output_type": "display_data"
    }
   ],
   "source": [
    "plt.plot(np.cumsum(mcount))\n",
    "plt.plot(np.cumsum(fcount))"
   ]
  },
  {
   "cell_type": "code",
   "execution_count": 9,
   "metadata": {},
   "outputs": [
    {
     "data": {
      "text/plain": [
       "KstestResult(statistic=0.6664, pvalue=0.0)"
      ]
     },
     "execution_count": 9,
     "metadata": {},
     "output_type": "execute_result"
    }
   ],
   "source": [
    "kstest(males_h.sort_values().reset_index(drop=True), females_h.sort_values().reset_index(drop=True), N=1000)"
   ]
  },
  {
   "cell_type": "code",
   "execution_count": 10,
   "metadata": {},
   "outputs": [
    {
     "data": {
      "text/plain": [
       "[<matplotlib.lines.Line2D at 0x2bfe5fa7970>]"
      ]
     },
     "execution_count": 10,
     "metadata": {},
     "output_type": "execute_result"
    },
    {
     "data": {
      "image/png": "[encoded data removed]",
      "text/plain": [
       "<Figure size 432x288 with 1 Axes>"
      ]
     },
     "metadata": {
      "needs_background": "light"
     },
     "output_type": "display_data"
    }
   ],
   "source": [
    "plt.plot((males_h.sort_values().reset_index(drop=True)))\n",
    "plt.plot((females_h.sort_values().reset_index(drop=True)))"
   ]
  },
  {
   "cell_type": "code",
   "execution_count": 11,
   "metadata": {},
   "outputs": [
    {
     "data": {
      "text/plain": [
       "[<matplotlib.lines.Line2D at 0x2bfe601e460>]"
      ]
     },
     "execution_count": 11,
     "metadata": {},
     "output_type": "execute_result"
    },
    {
     "data": {
      "image/png": "[encoded data removed]",
      "text/plain": [
       "<Figure size 432x288 with 1 Axes>"
      ]
     },
     "metadata": {
      "needs_background": "light"
     },
     "output_type": "display_data"
    }
   ],
   "source": [
    "plt.plot(np.cumsum((males_h.sort_values().reset_index(drop=True))))\n",
    "plt.plot(np.cumsum((females_h.sort_values().reset_index(drop=True))))"
   ]
  },
  {
   "cell_type": "code",
   "execution_count": 12,
   "metadata": {},
   "outputs": [
    {
     "data": {
      "text/plain": [
       "(array([  1.,   1.,   0.,   1.,   1.,   1.,   0.,   3.,   2.,   7.,   0.,\n",
       "          4.,   4.,   8.,   8.,  11.,   7.,   9.,  16.,  12.,  17.,  20.,\n",
       "         28.,  24.,  30.,  26.,  37.,  37.,  45.,  49.,  71.,  48.,  68.,\n",
       "         92.,  89.,  77.,  92.,  97., 108., 111., 127., 129., 115., 135.,\n",
       "        146., 130., 135., 133., 124., 152., 148., 130., 131., 142., 138.,\n",
       "        120., 129., 123.,  97., 108.,  93.,  93., 116.,  91.,  83.,  72.,\n",
       "         64.,  65.,  64.,  43.,  47.,  43.,  42.,  34.,  18.,  27.,  21.,\n",
       "         21.,  21.,  17.,  11.,  11.,   9.,   5.,   9.,  10.,   4.,   3.,\n",
       "          2.,   1.,   1.,   0.,   1.,   1.,   2.,   0.,   0.,   0.,   0.,\n",
       "          1.]),\n",
       " array([54.26313333, 54.45439785, 54.64566238, 54.8369269 , 55.02819143,\n",
       "        55.21945595, 55.41072048, 55.601985  , 55.79324953, 55.98451405,\n",
       "        56.17577858, 56.3670431 , 56.55830763, 56.74957216, 56.94083668,\n",
       "        57.13210121, 57.32336573, 57.51463026, 57.70589478, 57.89715931,\n",
       "        58.08842383, 58.27968836, 58.47095288, 58.66221741, 58.85348193,\n",
       "        59.04474646, 59.23601099, 59.42727551, 59.61854004, 59.80980456,\n",
       "        60.00106909, 60.19233361, 60.38359814, 60.57486266, 60.76612719,\n",
       "        60.95739171, 61.14865624, 61.33992077, 61.53118529, 61.72244982,\n",
       "        61.91371434, 62.10497887, 62.29624339, 62.48750792, 62.67877244,\n",
       "        62.87003697, 63.06130149, 63.25256602, 63.44383054, 63.63509507,\n",
       "        63.8263596 , 64.01762412, 64.20888865, 64.40015317, 64.5914177 ,\n",
       "        64.78268222, 64.97394675, 65.16521127, 65.3564758 , 65.54774032,\n",
       "        65.73900485, 65.93026938, 66.1215339 , 66.31279843, 66.50406295,\n",
       "        66.69532748, 66.886592  , 67.07785653, 67.26912105, 67.46038558,\n",
       "        67.6516501 , 67.84291463, 68.03417915, 68.22544368, 68.41670821,\n",
       "        68.60797273, 68.79923726, 68.99050178, 69.18176631, 69.37303083,\n",
       "        69.56429536, 69.75555988, 69.94682441, 70.13808893, 70.32935346,\n",
       "        70.52061798, 70.71188251, 70.90314704, 71.09441156, 71.28567609,\n",
       "        71.47694061, 71.66820514, 71.85946966, 72.05073419, 72.24199871,\n",
       "        72.43326324, 72.62452776, 72.81579229, 73.00705682, 73.19832134,\n",
       "        73.38958587]),\n",
       " <BarContainer object of 100 artists>)"
      ]
     },
     "execution_count": 12,
     "metadata": {},
     "output_type": "execute_result"
    },
    {
     "data": {
      "image/png": "[encoded data removed]",
      "text/plain": [
       "<Figure size 432x288 with 1 Axes>"
      ]
     },
     "metadata": {
      "needs_background": "light"
     },
     "output_type": "display_data"
    }
   ],
   "source": [
    "plt.hist((males_h.sort_values()), bins=100)\n",
    "plt.hist((females_h.sort_values()), bins=100)"
   ]
  },
  {
   "cell_type": "code",
   "execution_count": 13,
   "metadata": {},
   "outputs": [
    {
     "data": {
      "text/plain": [
       "69.02634590621737"
      ]
     },
     "execution_count": 13,
     "metadata": {},
     "output_type": "execute_result"
    }
   ],
   "source": [
    "males_h.mean()"
   ]
  },
  {
   "cell_type": "code",
   "execution_count": 14,
   "metadata": {},
   "outputs": [
    {
     "data": {
      "text/plain": [
       "63.708773603424916"
      ]
     },
     "execution_count": 14,
     "metadata": {},
     "output_type": "execute_result"
    }
   ],
   "source": [
    "females_h.mean()"
   ]
  },
  {
   "cell_type": "code",
   "execution_count": 15,
   "metadata": {},
   "outputs": [],
   "source": [
    "nmales_h = males_h - males_h.mean()"
   ]
  },
  {
   "cell_type": "code",
   "execution_count": 16,
   "metadata": {},
   "outputs": [],
   "source": [
    "nfemales_h = females_h - females_h.mean()"
   ]
  },
  {
   "cell_type": "code",
   "execution_count": 17,
   "metadata": {},
   "outputs": [
    {
     "data": {
      "text/plain": [
       "(array([  1.,   1.,   0.,   1.,   1.,   1.,   0.,   3.,   2.,   7.,   0.,\n",
       "          4.,   4.,   8.,   8.,  11.,   7.,   9.,  16.,  12.,  17.,  20.,\n",
       "         28.,  24.,  30.,  26.,  37.,  37.,  45.,  49.,  71.,  48.,  68.,\n",
       "         92.,  89.,  77.,  92.,  97., 108., 111., 127., 129., 115., 135.,\n",
       "        146., 130., 135., 133., 124., 152., 148., 130., 131., 142., 138.,\n",
       "        120., 129., 123.,  97., 108.,  93.,  93., 116.,  91.,  83.,  72.,\n",
       "         64.,  65.,  64.,  43.,  47.,  43.,  42.,  34.,  18.,  27.,  21.,\n",
       "         21.,  21.,  17.,  11.,  11.,   9.,   5.,   9.,  10.,   4.,   3.,\n",
       "          2.,   1.,   1.,   0.,   1.,   1.,   2.,   0.,   0.,   0.,   0.,\n",
       "          1.]),\n",
       " array([-9.44564028, -9.25437575, -9.06311123, -8.8718467 , -8.68058218,\n",
       "        -8.48931765, -8.29805313, -8.1067886 , -7.91552408, -7.72425955,\n",
       "        -7.53299502, -7.3417305 , -7.15046597, -6.95920145, -6.76793692,\n",
       "        -6.5766724 , -6.38540787, -6.19414335, -6.00287882, -5.8116143 ,\n",
       "        -5.62034977, -5.42908524, -5.23782072, -5.04655619, -4.85529167,\n",
       "        -4.66402714, -4.47276262, -4.28149809, -4.09023357, -3.89896904,\n",
       "        -3.70770452, -3.51643999, -3.32517547, -3.13391094, -2.94264641,\n",
       "        -2.75138189, -2.56011736, -2.36885284, -2.17758831, -1.98632379,\n",
       "        -1.79505926, -1.60379474, -1.41253021, -1.22126569, -1.03000116,\n",
       "        -0.83873663, -0.64747211, -0.45620758, -0.26494306, -0.07367853,\n",
       "         0.11758599,  0.30885052,  0.50011504,  0.69137957,  0.88264409,\n",
       "         1.07390862,  1.26517314,  1.45643767,  1.6477022 ,  1.83896672,\n",
       "         2.03023125,  2.22149577,  2.4127603 ,  2.60402482,  2.79528935,\n",
       "         2.98655387,  3.1778184 ,  3.36908292,  3.56034745,  3.75161197,\n",
       "         3.9428765 ,  4.13414103,  4.32540555,  4.51667008,  4.7079346 ,\n",
       "         4.89919913,  5.09046365,  5.28172818,  5.4729927 ,  5.66425723,\n",
       "         5.85552175,  6.04678628,  6.23805081,  6.42931533,  6.62057986,\n",
       "         6.81184438,  7.00310891,  7.19437343,  7.38563796,  7.57690248,\n",
       "         7.76816701,  7.95943153,  8.15069606,  8.34196058,  8.53322511,\n",
       "         8.72448964,  8.91575416,  9.10701869,  9.29828321,  9.48954774,\n",
       "         9.68081226]),\n",
       " <BarContainer object of 100 artists>)"
      ]
     },
     "execution_count": 17,
     "metadata": {},
     "output_type": "execute_result"
    },
    {
     "data": {
      "image/png": "[encoded data removed]",
      "text/plain": [
       "<Figure size 432x288 with 1 Axes>"
      ]
     },
     "metadata": {
      "needs_background": "light"
     },
     "output_type": "display_data"
    }
   ],
   "source": [
    "plt.hist((nmales_h.sort_values()), bins=100)\n",
    "plt.hist((nfemales_h.sort_values()), bins=100)"
   ]
  },
  {
   "cell_type": "code",
   "execution_count": 18,
   "metadata": {},
   "outputs": [
    {
     "data": {
      "text/plain": [
       "KstestResult(statistic=0.0194, pvalue=0.3035775745288207)"
      ]
     },
     "execution_count": 18,
     "metadata": {},
     "output_type": "execute_result"
    }
   ],
   "source": [
    "kstest(nmales_h, nfemales_h)"
   ]
  },
  {
   "cell_type": "code",
   "execution_count": 19,
   "metadata": {},
   "outputs": [
    {
     "data": {
      "text/plain": [
       "KstestResult(statistic=0.23808525858975527, pvalue=7.336270444149125e-250)"
      ]
     },
     "execution_count": 19,
     "metadata": {},
     "output_type": "execute_result"
    }
   ],
   "source": [
    "kstest(nmales_h, 'norm')"
   ]
  },
  {
   "cell_type": "code",
   "execution_count": 20,
   "metadata": {},
   "outputs": [
    {
     "data": {
      "text/plain": [
       "4.6925663355068534e-14"
      ]
     },
     "execution_count": 20,
     "metadata": {},
     "output_type": "execute_result"
    }
   ],
   "source": [
    "nmales_h.mean()"
   ]
  },
  {
   "cell_type": "code",
   "execution_count": 21,
   "metadata": {},
   "outputs": [
    {
     "data": {
      "text/plain": [
       "2.8633622286606513"
      ]
     },
     "execution_count": 21,
     "metadata": {},
     "output_type": "execute_result"
    }
   ],
   "source": [
    "nmales_h.std()"
   ]
  },
  {
   "cell_type": "code",
   "execution_count": 22,
   "metadata": {},
   "outputs": [
    {
     "data": {
      "text/plain": [
       "array([ 0.89568265, -0.20672381,  0.58917727, ..., -7.24971855,\n",
       "       -2.68012336,  1.37426667])"
      ]
     },
     "execution_count": 22,
     "metadata": {},
     "output_type": "execute_result"
    }
   ],
   "source": [
    "ideal = norm.rvs(size=len(nmales_h), loc=nmales_h.mean(), scale=nmales_h.std())\n",
    "ideal"
   ]
  },
  {
   "cell_type": "code",
   "execution_count": 23,
   "metadata": {},
   "outputs": [
    {
     "data": {
      "text/plain": [
       "KstestResult(statistic=0.0172, pvalue=0.45029268979401865)"
      ]
     },
     "execution_count": 23,
     "metadata": {},
     "output_type": "execute_result"
    }
   ],
   "source": [
    "kstest(nmales_h, ideal)"
   ]
  },
  {
   "cell_type": "code",
   "execution_count": 24,
   "metadata": {},
   "outputs": [],
   "source": [
    "# Masoud Kaviani"
   ]
  }
 ],
 "metadata": {
  "kernelspec": {
   "display_name": "Python 3 (ipykernel)",
   "language": "python",
   "name": "python3"
  },
  "language_info": {
   "codemirror_mode": {
    "name": "ipython",
    "version": 3
   },
   "file_extension": ".py",
   "mimetype": "text/x-python",
   "name": "python",
   "nbconvert_exporter": "python",
   "pygments_lexer": "ipython3",
   "version": "3.9.12"
  }
 },
 "nbformat": 4,
 "nbformat_minor": 4
}
