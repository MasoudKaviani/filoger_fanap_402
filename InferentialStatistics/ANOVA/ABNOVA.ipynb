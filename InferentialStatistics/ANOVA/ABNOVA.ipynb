{
 "cells": [
  {
   "cell_type": "code",
   "execution_count": 1,
   "metadata": {},
   "outputs": [],
   "source": [
    "import pandas as pd"
   ]
  },
  {
   "cell_type": "code",
   "execution_count": 2,
   "metadata": {},
   "outputs": [
    {
     "data": {
      "text/html": [
       "<div>\n",
       "<style scoped>\n",
       "    .dataframe tbody tr th:only-of-type {\n",
       "        vertical-align: middle;\n",
       "    }\n",
       "\n",
       "    .dataframe tbody tr th {\n",
       "        vertical-align: top;\n",
       "    }\n",
       "\n",
       "    .dataframe thead th {\n",
       "        text-align: right;\n",
       "    }\n",
       "</style>\n",
       "<table border=\"1\" class=\"dataframe\">\n",
       "  <thead>\n",
       "    <tr style=\"text-align: right;\">\n",
       "      <th></th>\n",
       "      <th>Campain</th>\n",
       "      <th>Sell</th>\n",
       "    </tr>\n",
       "  </thead>\n",
       "  <tbody>\n",
       "    <tr>\n",
       "      <th>0</th>\n",
       "      <td>A</td>\n",
       "      <td>12.6</td>\n",
       "    </tr>\n",
       "    <tr>\n",
       "      <th>1</th>\n",
       "      <td>A</td>\n",
       "      <td>12.0</td>\n",
       "    </tr>\n",
       "    <tr>\n",
       "      <th>2</th>\n",
       "      <td>A</td>\n",
       "      <td>11.8</td>\n",
       "    </tr>\n",
       "    <tr>\n",
       "      <th>3</th>\n",
       "      <td>A</td>\n",
       "      <td>11.9</td>\n",
       "    </tr>\n",
       "    <tr>\n",
       "      <th>4</th>\n",
       "      <td>A</td>\n",
       "      <td>13.0</td>\n",
       "    </tr>\n",
       "    <tr>\n",
       "      <th>5</th>\n",
       "      <td>A</td>\n",
       "      <td>12.5</td>\n",
       "    </tr>\n",
       "    <tr>\n",
       "      <th>6</th>\n",
       "      <td>A</td>\n",
       "      <td>14.0</td>\n",
       "    </tr>\n",
       "    <tr>\n",
       "      <th>7</th>\n",
       "      <td>B</td>\n",
       "      <td>10.0</td>\n",
       "    </tr>\n",
       "    <tr>\n",
       "      <th>8</th>\n",
       "      <td>B</td>\n",
       "      <td>10.2</td>\n",
       "    </tr>\n",
       "    <tr>\n",
       "      <th>9</th>\n",
       "      <td>B</td>\n",
       "      <td>10.0</td>\n",
       "    </tr>\n",
       "    <tr>\n",
       "      <th>10</th>\n",
       "      <td>B</td>\n",
       "      <td>12.0</td>\n",
       "    </tr>\n",
       "    <tr>\n",
       "      <th>11</th>\n",
       "      <td>B</td>\n",
       "      <td>14.0</td>\n",
       "    </tr>\n",
       "    <tr>\n",
       "      <th>12</th>\n",
       "      <td>B</td>\n",
       "      <td>13.0</td>\n",
       "    </tr>\n",
       "    <tr>\n",
       "      <th>13</th>\n",
       "      <td>C</td>\n",
       "      <td>10.1</td>\n",
       "    </tr>\n",
       "    <tr>\n",
       "      <th>14</th>\n",
       "      <td>C</td>\n",
       "      <td>13.0</td>\n",
       "    </tr>\n",
       "    <tr>\n",
       "      <th>15</th>\n",
       "      <td>C</td>\n",
       "      <td>13.4</td>\n",
       "    </tr>\n",
       "    <tr>\n",
       "      <th>16</th>\n",
       "      <td>C</td>\n",
       "      <td>12.9</td>\n",
       "    </tr>\n",
       "    <tr>\n",
       "      <th>17</th>\n",
       "      <td>C</td>\n",
       "      <td>8.9</td>\n",
       "    </tr>\n",
       "    <tr>\n",
       "      <th>18</th>\n",
       "      <td>C</td>\n",
       "      <td>10.7</td>\n",
       "    </tr>\n",
       "    <tr>\n",
       "      <th>19</th>\n",
       "      <td>C</td>\n",
       "      <td>13.6</td>\n",
       "    </tr>\n",
       "    <tr>\n",
       "      <th>20</th>\n",
       "      <td>C</td>\n",
       "      <td>12.0</td>\n",
       "    </tr>\n",
       "  </tbody>\n",
       "</table>\n",
       "</div>"
      ],
      "text/plain": [
       "   Campain  Sell\n",
       "0        A  12.6\n",
       "1        A  12.0\n",
       "2        A  11.8\n",
       "3        A  11.9\n",
       "4        A  13.0\n",
       "5        A  12.5\n",
       "6        A  14.0\n",
       "7        B  10.0\n",
       "8        B  10.2\n",
       "9        B  10.0\n",
       "10       B  12.0\n",
       "11       B  14.0\n",
       "12       B  13.0\n",
       "13       C  10.1\n",
       "14       C  13.0\n",
       "15       C  13.4\n",
       "16       C  12.9\n",
       "17       C   8.9\n",
       "18       C  10.7\n",
       "19       C  13.6\n",
       "20       C  12.0"
      ]
     },
     "execution_count": 2,
     "metadata": {},
     "output_type": "execute_result"
    }
   ],
   "source": [
    "data = pd.read_csv('3campain.csv')\n",
    "data"
   ]
  },
  {
   "cell_type": "code",
   "execution_count": 3,
   "metadata": {},
   "outputs": [
    {
     "data": {
      "text/plain": [
       "11.980952380952381"
      ]
     },
     "execution_count": 3,
     "metadata": {},
     "output_type": "execute_result"
    }
   ],
   "source": [
    "data['Sell'].mean()"
   ]
  },
  {
   "cell_type": "code",
   "execution_count": 4,
   "metadata": {},
   "outputs": [
    {
     "data": {
      "text/html": [
       "<div>\n",
       "<style scoped>\n",
       "    .dataframe tbody tr th:only-of-type {\n",
       "        vertical-align: middle;\n",
       "    }\n",
       "\n",
       "    .dataframe tbody tr th {\n",
       "        vertical-align: top;\n",
       "    }\n",
       "\n",
       "    .dataframe thead th {\n",
       "        text-align: right;\n",
       "    }\n",
       "</style>\n",
       "<table border=\"1\" class=\"dataframe\">\n",
       "  <thead>\n",
       "    <tr style=\"text-align: right;\">\n",
       "      <th></th>\n",
       "      <th>Sell</th>\n",
       "    </tr>\n",
       "    <tr>\n",
       "      <th>Campain</th>\n",
       "      <th></th>\n",
       "    </tr>\n",
       "  </thead>\n",
       "  <tbody>\n",
       "    <tr>\n",
       "      <th>A</th>\n",
       "      <td>12.542857</td>\n",
       "    </tr>\n",
       "    <tr>\n",
       "      <th>B</th>\n",
       "      <td>11.533333</td>\n",
       "    </tr>\n",
       "    <tr>\n",
       "      <th>C</th>\n",
       "      <td>11.825000</td>\n",
       "    </tr>\n",
       "  </tbody>\n",
       "</table>\n",
       "</div>"
      ],
      "text/plain": [
       "              Sell\n",
       "Campain           \n",
       "A        12.542857\n",
       "B        11.533333\n",
       "C        11.825000"
      ]
     },
     "execution_count": 4,
     "metadata": {},
     "output_type": "execute_result"
    }
   ],
   "source": [
    "data.groupby('Campain').mean()"
   ]
  },
  {
   "cell_type": "code",
   "execution_count": 5,
   "metadata": {},
   "outputs": [],
   "source": [
    "from statsmodels.formula.api import ols\n",
    "import statsmodels.api as sm"
   ]
  },
  {
   "cell_type": "code",
   "execution_count": 6,
   "metadata": {},
   "outputs": [],
   "source": [
    "result = ols('Sell ~ Campain', data=data).fit()"
   ]
  },
  {
   "cell_type": "code",
   "execution_count": 7,
   "metadata": {},
   "outputs": [
    {
     "data": {
      "text/html": [
       "<div>\n",
       "<style scoped>\n",
       "    .dataframe tbody tr th:only-of-type {\n",
       "        vertical-align: middle;\n",
       "    }\n",
       "\n",
       "    .dataframe tbody tr th {\n",
       "        vertical-align: top;\n",
       "    }\n",
       "\n",
       "    .dataframe thead th {\n",
       "        text-align: right;\n",
       "    }\n",
       "</style>\n",
       "<table border=\"1\" class=\"dataframe\">\n",
       "  <thead>\n",
       "    <tr style=\"text-align: right;\">\n",
       "      <th></th>\n",
       "      <th>df</th>\n",
       "      <th>sum_sq</th>\n",
       "      <th>mean_sq</th>\n",
       "      <th>F</th>\n",
       "      <th>PR(&gt;F)</th>\n",
       "    </tr>\n",
       "  </thead>\n",
       "  <tbody>\n",
       "    <tr>\n",
       "      <th>Campain</th>\n",
       "      <td>2.0</td>\n",
       "      <td>3.606905</td>\n",
       "      <td>1.803452</td>\n",
       "      <td>0.821297</td>\n",
       "      <td>0.455683</td>\n",
       "    </tr>\n",
       "    <tr>\n",
       "      <th>Residual</th>\n",
       "      <td>18.0</td>\n",
       "      <td>39.525476</td>\n",
       "      <td>2.195860</td>\n",
       "      <td>NaN</td>\n",
       "      <td>NaN</td>\n",
       "    </tr>\n",
       "  </tbody>\n",
       "</table>\n",
       "</div>"
      ],
      "text/plain": [
       "            df     sum_sq   mean_sq         F    PR(>F)\n",
       "Campain    2.0   3.606905  1.803452  0.821297  0.455683\n",
       "Residual  18.0  39.525476  2.195860       NaN       NaN"
      ]
     },
     "execution_count": 7,
     "metadata": {},
     "output_type": "execute_result"
    }
   ],
   "source": [
    "sm.stats.anova_lm(result)"
   ]
  },
  {
   "cell_type": "code",
   "execution_count": 8,
   "metadata": {},
   "outputs": [],
   "source": [
    "data['Mean'] = data['Sell'].mean()"
   ]
  },
  {
   "cell_type": "code",
   "execution_count": 9,
   "metadata": {},
   "outputs": [
    {
     "data": {
      "text/html": [
       "<div>\n",
       "<style scoped>\n",
       "    .dataframe tbody tr th:only-of-type {\n",
       "        vertical-align: middle;\n",
       "    }\n",
       "\n",
       "    .dataframe tbody tr th {\n",
       "        vertical-align: top;\n",
       "    }\n",
       "\n",
       "    .dataframe thead th {\n",
       "        text-align: right;\n",
       "    }\n",
       "</style>\n",
       "<table border=\"1\" class=\"dataframe\">\n",
       "  <thead>\n",
       "    <tr style=\"text-align: right;\">\n",
       "      <th></th>\n",
       "      <th>Campain</th>\n",
       "      <th>Sell</th>\n",
       "      <th>Mean</th>\n",
       "    </tr>\n",
       "  </thead>\n",
       "  <tbody>\n",
       "    <tr>\n",
       "      <th>0</th>\n",
       "      <td>A</td>\n",
       "      <td>12.6</td>\n",
       "      <td>11.980952</td>\n",
       "    </tr>\n",
       "    <tr>\n",
       "      <th>1</th>\n",
       "      <td>A</td>\n",
       "      <td>12.0</td>\n",
       "      <td>11.980952</td>\n",
       "    </tr>\n",
       "    <tr>\n",
       "      <th>2</th>\n",
       "      <td>A</td>\n",
       "      <td>11.8</td>\n",
       "      <td>11.980952</td>\n",
       "    </tr>\n",
       "    <tr>\n",
       "      <th>3</th>\n",
       "      <td>A</td>\n",
       "      <td>11.9</td>\n",
       "      <td>11.980952</td>\n",
       "    </tr>\n",
       "    <tr>\n",
       "      <th>4</th>\n",
       "      <td>A</td>\n",
       "      <td>13.0</td>\n",
       "      <td>11.980952</td>\n",
       "    </tr>\n",
       "    <tr>\n",
       "      <th>5</th>\n",
       "      <td>A</td>\n",
       "      <td>12.5</td>\n",
       "      <td>11.980952</td>\n",
       "    </tr>\n",
       "    <tr>\n",
       "      <th>6</th>\n",
       "      <td>A</td>\n",
       "      <td>14.0</td>\n",
       "      <td>11.980952</td>\n",
       "    </tr>\n",
       "    <tr>\n",
       "      <th>7</th>\n",
       "      <td>B</td>\n",
       "      <td>10.0</td>\n",
       "      <td>11.980952</td>\n",
       "    </tr>\n",
       "    <tr>\n",
       "      <th>8</th>\n",
       "      <td>B</td>\n",
       "      <td>10.2</td>\n",
       "      <td>11.980952</td>\n",
       "    </tr>\n",
       "    <tr>\n",
       "      <th>9</th>\n",
       "      <td>B</td>\n",
       "      <td>10.0</td>\n",
       "      <td>11.980952</td>\n",
       "    </tr>\n",
       "    <tr>\n",
       "      <th>10</th>\n",
       "      <td>B</td>\n",
       "      <td>12.0</td>\n",
       "      <td>11.980952</td>\n",
       "    </tr>\n",
       "    <tr>\n",
       "      <th>11</th>\n",
       "      <td>B</td>\n",
       "      <td>14.0</td>\n",
       "      <td>11.980952</td>\n",
       "    </tr>\n",
       "    <tr>\n",
       "      <th>12</th>\n",
       "      <td>B</td>\n",
       "      <td>13.0</td>\n",
       "      <td>11.980952</td>\n",
       "    </tr>\n",
       "    <tr>\n",
       "      <th>13</th>\n",
       "      <td>C</td>\n",
       "      <td>10.1</td>\n",
       "      <td>11.980952</td>\n",
       "    </tr>\n",
       "    <tr>\n",
       "      <th>14</th>\n",
       "      <td>C</td>\n",
       "      <td>13.0</td>\n",
       "      <td>11.980952</td>\n",
       "    </tr>\n",
       "    <tr>\n",
       "      <th>15</th>\n",
       "      <td>C</td>\n",
       "      <td>13.4</td>\n",
       "      <td>11.980952</td>\n",
       "    </tr>\n",
       "    <tr>\n",
       "      <th>16</th>\n",
       "      <td>C</td>\n",
       "      <td>12.9</td>\n",
       "      <td>11.980952</td>\n",
       "    </tr>\n",
       "    <tr>\n",
       "      <th>17</th>\n",
       "      <td>C</td>\n",
       "      <td>8.9</td>\n",
       "      <td>11.980952</td>\n",
       "    </tr>\n",
       "    <tr>\n",
       "      <th>18</th>\n",
       "      <td>C</td>\n",
       "      <td>10.7</td>\n",
       "      <td>11.980952</td>\n",
       "    </tr>\n",
       "    <tr>\n",
       "      <th>19</th>\n",
       "      <td>C</td>\n",
       "      <td>13.6</td>\n",
       "      <td>11.980952</td>\n",
       "    </tr>\n",
       "    <tr>\n",
       "      <th>20</th>\n",
       "      <td>C</td>\n",
       "      <td>12.0</td>\n",
       "      <td>11.980952</td>\n",
       "    </tr>\n",
       "  </tbody>\n",
       "</table>\n",
       "</div>"
      ],
      "text/plain": [
       "   Campain  Sell       Mean\n",
       "0        A  12.6  11.980952\n",
       "1        A  12.0  11.980952\n",
       "2        A  11.8  11.980952\n",
       "3        A  11.9  11.980952\n",
       "4        A  13.0  11.980952\n",
       "5        A  12.5  11.980952\n",
       "6        A  14.0  11.980952\n",
       "7        B  10.0  11.980952\n",
       "8        B  10.2  11.980952\n",
       "9        B  10.0  11.980952\n",
       "10       B  12.0  11.980952\n",
       "11       B  14.0  11.980952\n",
       "12       B  13.0  11.980952\n",
       "13       C  10.1  11.980952\n",
       "14       C  13.0  11.980952\n",
       "15       C  13.4  11.980952\n",
       "16       C  12.9  11.980952\n",
       "17       C   8.9  11.980952\n",
       "18       C  10.7  11.980952\n",
       "19       C  13.6  11.980952\n",
       "20       C  12.0  11.980952"
      ]
     },
     "execution_count": 9,
     "metadata": {},
     "output_type": "execute_result"
    }
   ],
   "source": [
    "data"
   ]
  },
  {
   "cell_type": "code",
   "execution_count": 10,
   "metadata": {},
   "outputs": [
    {
     "data": {
      "text/plain": [
       "43.132380952380956"
      ]
     },
     "execution_count": 10,
     "metadata": {},
     "output_type": "execute_result"
    }
   ],
   "source": [
    "sum_sq = sum((data['Sell'] - data['Mean']) ** 2)\n",
    "sum_sq"
   ]
  },
  {
   "cell_type": "code",
   "execution_count": 11,
   "metadata": {},
   "outputs": [
    {
     "data": {
      "text/html": [
       "<div>\n",
       "<style scoped>\n",
       "    .dataframe tbody tr th:only-of-type {\n",
       "        vertical-align: middle;\n",
       "    }\n",
       "\n",
       "    .dataframe tbody tr th {\n",
       "        vertical-align: top;\n",
       "    }\n",
       "\n",
       "    .dataframe thead th {\n",
       "        text-align: right;\n",
       "    }\n",
       "</style>\n",
       "<table border=\"1\" class=\"dataframe\">\n",
       "  <thead>\n",
       "    <tr style=\"text-align: right;\">\n",
       "      <th></th>\n",
       "      <th>Sell</th>\n",
       "    </tr>\n",
       "    <tr>\n",
       "      <th>Campain</th>\n",
       "      <th></th>\n",
       "    </tr>\n",
       "  </thead>\n",
       "  <tbody>\n",
       "    <tr>\n",
       "      <th>A</th>\n",
       "      <td>12.542857</td>\n",
       "    </tr>\n",
       "    <tr>\n",
       "      <th>B</th>\n",
       "      <td>11.533333</td>\n",
       "    </tr>\n",
       "    <tr>\n",
       "      <th>C</th>\n",
       "      <td>11.825000</td>\n",
       "    </tr>\n",
       "  </tbody>\n",
       "</table>\n",
       "</div>"
      ],
      "text/plain": [
       "              Sell\n",
       "Campain           \n",
       "A        12.542857\n",
       "B        11.533333\n",
       "C        11.825000"
      ]
     },
     "execution_count": 11,
     "metadata": {},
     "output_type": "execute_result"
    }
   ],
   "source": [
    "gMean = data.groupby('Campain').mean()[['Sell']]\n",
    "gMean"
   ]
  },
  {
   "cell_type": "code",
   "execution_count": 12,
   "metadata": {},
   "outputs": [
    {
     "data": {
      "text/html": [
       "<div>\n",
       "<style scoped>\n",
       "    .dataframe tbody tr th:only-of-type {\n",
       "        vertical-align: middle;\n",
       "    }\n",
       "\n",
       "    .dataframe tbody tr th {\n",
       "        vertical-align: top;\n",
       "    }\n",
       "\n",
       "    .dataframe thead th {\n",
       "        text-align: right;\n",
       "    }\n",
       "</style>\n",
       "<table border=\"1\" class=\"dataframe\">\n",
       "  <thead>\n",
       "    <tr style=\"text-align: right;\">\n",
       "      <th></th>\n",
       "      <th>gMean</th>\n",
       "    </tr>\n",
       "    <tr>\n",
       "      <th>Campain</th>\n",
       "      <th></th>\n",
       "    </tr>\n",
       "  </thead>\n",
       "  <tbody>\n",
       "    <tr>\n",
       "      <th>A</th>\n",
       "      <td>12.542857</td>\n",
       "    </tr>\n",
       "    <tr>\n",
       "      <th>B</th>\n",
       "      <td>11.533333</td>\n",
       "    </tr>\n",
       "    <tr>\n",
       "      <th>C</th>\n",
       "      <td>11.825000</td>\n",
       "    </tr>\n",
       "  </tbody>\n",
       "</table>\n",
       "</div>"
      ],
      "text/plain": [
       "             gMean\n",
       "Campain           \n",
       "A        12.542857\n",
       "B        11.533333\n",
       "C        11.825000"
      ]
     },
     "execution_count": 12,
     "metadata": {},
     "output_type": "execute_result"
    }
   ],
   "source": [
    "gMean = gMean.rename(columns={'Sell': 'gMean'})\n",
    "gMean"
   ]
  },
  {
   "cell_type": "code",
   "execution_count": 13,
   "metadata": {},
   "outputs": [
    {
     "data": {
      "text/html": [
       "<div>\n",
       "<style scoped>\n",
       "    .dataframe tbody tr th:only-of-type {\n",
       "        vertical-align: middle;\n",
       "    }\n",
       "\n",
       "    .dataframe tbody tr th {\n",
       "        vertical-align: top;\n",
       "    }\n",
       "\n",
       "    .dataframe thead th {\n",
       "        text-align: right;\n",
       "    }\n",
       "</style>\n",
       "<table border=\"1\" class=\"dataframe\">\n",
       "  <thead>\n",
       "    <tr style=\"text-align: right;\">\n",
       "      <th></th>\n",
       "      <th>Campain</th>\n",
       "      <th>Sell</th>\n",
       "      <th>Mean</th>\n",
       "      <th>gMean</th>\n",
       "    </tr>\n",
       "  </thead>\n",
       "  <tbody>\n",
       "    <tr>\n",
       "      <th>0</th>\n",
       "      <td>A</td>\n",
       "      <td>12.6</td>\n",
       "      <td>11.980952</td>\n",
       "      <td>12.542857</td>\n",
       "    </tr>\n",
       "    <tr>\n",
       "      <th>1</th>\n",
       "      <td>A</td>\n",
       "      <td>12.0</td>\n",
       "      <td>11.980952</td>\n",
       "      <td>12.542857</td>\n",
       "    </tr>\n",
       "    <tr>\n",
       "      <th>2</th>\n",
       "      <td>A</td>\n",
       "      <td>11.8</td>\n",
       "      <td>11.980952</td>\n",
       "      <td>12.542857</td>\n",
       "    </tr>\n",
       "    <tr>\n",
       "      <th>3</th>\n",
       "      <td>A</td>\n",
       "      <td>11.9</td>\n",
       "      <td>11.980952</td>\n",
       "      <td>12.542857</td>\n",
       "    </tr>\n",
       "    <tr>\n",
       "      <th>4</th>\n",
       "      <td>A</td>\n",
       "      <td>13.0</td>\n",
       "      <td>11.980952</td>\n",
       "      <td>12.542857</td>\n",
       "    </tr>\n",
       "    <tr>\n",
       "      <th>5</th>\n",
       "      <td>A</td>\n",
       "      <td>12.5</td>\n",
       "      <td>11.980952</td>\n",
       "      <td>12.542857</td>\n",
       "    </tr>\n",
       "    <tr>\n",
       "      <th>6</th>\n",
       "      <td>A</td>\n",
       "      <td>14.0</td>\n",
       "      <td>11.980952</td>\n",
       "      <td>12.542857</td>\n",
       "    </tr>\n",
       "    <tr>\n",
       "      <th>7</th>\n",
       "      <td>B</td>\n",
       "      <td>10.0</td>\n",
       "      <td>11.980952</td>\n",
       "      <td>11.533333</td>\n",
       "    </tr>\n",
       "    <tr>\n",
       "      <th>8</th>\n",
       "      <td>B</td>\n",
       "      <td>10.2</td>\n",
       "      <td>11.980952</td>\n",
       "      <td>11.533333</td>\n",
       "    </tr>\n",
       "    <tr>\n",
       "      <th>9</th>\n",
       "      <td>B</td>\n",
       "      <td>10.0</td>\n",
       "      <td>11.980952</td>\n",
       "      <td>11.533333</td>\n",
       "    </tr>\n",
       "    <tr>\n",
       "      <th>10</th>\n",
       "      <td>B</td>\n",
       "      <td>12.0</td>\n",
       "      <td>11.980952</td>\n",
       "      <td>11.533333</td>\n",
       "    </tr>\n",
       "    <tr>\n",
       "      <th>11</th>\n",
       "      <td>B</td>\n",
       "      <td>14.0</td>\n",
       "      <td>11.980952</td>\n",
       "      <td>11.533333</td>\n",
       "    </tr>\n",
       "    <tr>\n",
       "      <th>12</th>\n",
       "      <td>B</td>\n",
       "      <td>13.0</td>\n",
       "      <td>11.980952</td>\n",
       "      <td>11.533333</td>\n",
       "    </tr>\n",
       "    <tr>\n",
       "      <th>13</th>\n",
       "      <td>C</td>\n",
       "      <td>10.1</td>\n",
       "      <td>11.980952</td>\n",
       "      <td>11.825000</td>\n",
       "    </tr>\n",
       "    <tr>\n",
       "      <th>14</th>\n",
       "      <td>C</td>\n",
       "      <td>13.0</td>\n",
       "      <td>11.980952</td>\n",
       "      <td>11.825000</td>\n",
       "    </tr>\n",
       "    <tr>\n",
       "      <th>15</th>\n",
       "      <td>C</td>\n",
       "      <td>13.4</td>\n",
       "      <td>11.980952</td>\n",
       "      <td>11.825000</td>\n",
       "    </tr>\n",
       "    <tr>\n",
       "      <th>16</th>\n",
       "      <td>C</td>\n",
       "      <td>12.9</td>\n",
       "      <td>11.980952</td>\n",
       "      <td>11.825000</td>\n",
       "    </tr>\n",
       "    <tr>\n",
       "      <th>17</th>\n",
       "      <td>C</td>\n",
       "      <td>8.9</td>\n",
       "      <td>11.980952</td>\n",
       "      <td>11.825000</td>\n",
       "    </tr>\n",
       "    <tr>\n",
       "      <th>18</th>\n",
       "      <td>C</td>\n",
       "      <td>10.7</td>\n",
       "      <td>11.980952</td>\n",
       "      <td>11.825000</td>\n",
       "    </tr>\n",
       "    <tr>\n",
       "      <th>19</th>\n",
       "      <td>C</td>\n",
       "      <td>13.6</td>\n",
       "      <td>11.980952</td>\n",
       "      <td>11.825000</td>\n",
       "    </tr>\n",
       "    <tr>\n",
       "      <th>20</th>\n",
       "      <td>C</td>\n",
       "      <td>12.0</td>\n",
       "      <td>11.980952</td>\n",
       "      <td>11.825000</td>\n",
       "    </tr>\n",
       "  </tbody>\n",
       "</table>\n",
       "</div>"
      ],
      "text/plain": [
       "   Campain  Sell       Mean      gMean\n",
       "0        A  12.6  11.980952  12.542857\n",
       "1        A  12.0  11.980952  12.542857\n",
       "2        A  11.8  11.980952  12.542857\n",
       "3        A  11.9  11.980952  12.542857\n",
       "4        A  13.0  11.980952  12.542857\n",
       "5        A  12.5  11.980952  12.542857\n",
       "6        A  14.0  11.980952  12.542857\n",
       "7        B  10.0  11.980952  11.533333\n",
       "8        B  10.2  11.980952  11.533333\n",
       "9        B  10.0  11.980952  11.533333\n",
       "10       B  12.0  11.980952  11.533333\n",
       "11       B  14.0  11.980952  11.533333\n",
       "12       B  13.0  11.980952  11.533333\n",
       "13       C  10.1  11.980952  11.825000\n",
       "14       C  13.0  11.980952  11.825000\n",
       "15       C  13.4  11.980952  11.825000\n",
       "16       C  12.9  11.980952  11.825000\n",
       "17       C   8.9  11.980952  11.825000\n",
       "18       C  10.7  11.980952  11.825000\n",
       "19       C  13.6  11.980952  11.825000\n",
       "20       C  12.0  11.980952  11.825000"
      ]
     },
     "execution_count": 13,
     "metadata": {},
     "output_type": "execute_result"
    }
   ],
   "source": [
    "data = data.merge(gMean, left_on='Campain', right_index=True)\n",
    "data"
   ]
  },
  {
   "cell_type": "code",
   "execution_count": 14,
   "metadata": {},
   "outputs": [
    {
     "data": {
      "text/plain": [
       "39.52547619047619"
      ]
     },
     "execution_count": 14,
     "metadata": {},
     "output_type": "execute_result"
    }
   ],
   "source": [
    "ss_r = sum((data['Sell'] - data['gMean']) ** 2)\n",
    "ss_r"
   ]
  },
  {
   "cell_type": "code",
   "execution_count": 15,
   "metadata": {},
   "outputs": [
    {
     "data": {
      "text/plain": [
       "3.6069047619047776"
      ]
     },
     "execution_count": 15,
     "metadata": {},
     "output_type": "execute_result"
    }
   ],
   "source": [
    "ss_e = sum((data['Mean'] - data['gMean']) ** 2)\n",
    "ss_e"
   ]
  },
  {
   "cell_type": "code",
   "execution_count": 16,
   "metadata": {},
   "outputs": [
    {
     "data": {
      "text/plain": [
       "1.8034523809523888"
      ]
     },
     "execution_count": 16,
     "metadata": {},
     "output_type": "execute_result"
    }
   ],
   "source": [
    "ms_e = ss_e / 2\n",
    "ms_e"
   ]
  },
  {
   "cell_type": "code",
   "execution_count": 17,
   "metadata": {},
   "outputs": [
    {
     "data": {
      "text/plain": [
       "2.1958597883597886"
      ]
     },
     "execution_count": 17,
     "metadata": {},
     "output_type": "execute_result"
    }
   ],
   "source": [
    "ms_r = ss_r / 18\n",
    "ms_r"
   ]
  },
  {
   "cell_type": "code",
   "execution_count": 18,
   "metadata": {},
   "outputs": [
    {
     "data": {
      "text/plain": [
       "0.8212966923081592"
      ]
     },
     "execution_count": 18,
     "metadata": {},
     "output_type": "execute_result"
    }
   ],
   "source": [
    "f = ms_e / ms_r\n",
    "f"
   ]
  },
  {
   "cell_type": "code",
   "execution_count": 19,
   "metadata": {},
   "outputs": [],
   "source": [
    "import scipy as st"
   ]
  },
  {
   "cell_type": "code",
   "execution_count": 20,
   "metadata": {},
   "outputs": [
    {
     "data": {
      "text/plain": [
       "0.4556832940515221"
      ]
     },
     "execution_count": 20,
     "metadata": {},
     "output_type": "execute_result"
    }
   ],
   "source": [
    "p = 1 - st.stats.f.cdf(f, 2, 18)\n",
    "p"
   ]
  },
  {
   "cell_type": "code",
   "execution_count": 21,
   "metadata": {},
   "outputs": [],
   "source": [
    "d = st.stats.f.rvs(2, 18,size=10000)"
   ]
  },
  {
   "cell_type": "code",
   "execution_count": 22,
   "metadata": {},
   "outputs": [],
   "source": [
    "import matplotlib.pyplot as plt"
   ]
  },
  {
   "cell_type": "code",
   "execution_count": 26,
   "metadata": {},
   "outputs": [
    {
     "data": {
      "text/plain": [
       "(array([1.362e+03, 1.156e+03, 9.110e+02, 8.320e+02, 7.530e+02, 6.120e+02,\n",
       "        5.270e+02, 4.710e+02, 3.890e+02, 3.560e+02, 3.150e+02, 2.450e+02,\n",
       "        2.570e+02, 1.910e+02, 1.800e+02, 1.640e+02, 1.300e+02, 1.070e+02,\n",
       "        1.170e+02, 9.600e+01, 7.600e+01, 9.000e+01, 6.600e+01, 5.400e+01,\n",
       "        5.100e+01, 4.900e+01, 3.700e+01, 3.200e+01, 3.700e+01, 3.000e+01,\n",
       "        3.300e+01, 2.300e+01, 2.200e+01, 2.500e+01, 1.500e+01, 1.200e+01,\n",
       "        1.800e+01, 1.100e+01, 1.400e+01, 1.100e+01, 1.200e+01, 1.300e+01,\n",
       "        8.000e+00, 7.000e+00, 1.000e+01, 5.000e+00, 4.000e+00, 4.000e+00,\n",
       "        8.000e+00, 4.000e+00, 2.000e+00, 9.000e+00, 4.000e+00, 5.000e+00,\n",
       "        0.000e+00, 1.000e+00, 2.000e+00, 0.000e+00, 2.000e+00, 1.000e+00,\n",
       "        1.000e+00, 0.000e+00, 2.000e+00, 1.000e+00, 2.000e+00, 0.000e+00,\n",
       "        1.000e+00, 0.000e+00, 0.000e+00, 1.000e+00, 1.000e+00, 0.000e+00,\n",
       "        0.000e+00, 2.000e+00, 3.000e+00, 0.000e+00, 0.000e+00, 1.000e+00,\n",
       "        0.000e+00, 0.000e+00, 0.000e+00, 0.000e+00, 0.000e+00, 0.000e+00,\n",
       "        0.000e+00, 1.000e+00, 1.000e+00, 0.000e+00, 2.000e+00, 0.000e+00,\n",
       "        0.000e+00, 0.000e+00, 0.000e+00, 1.000e+00, 0.000e+00, 0.000e+00,\n",
       "        1.000e+00, 0.000e+00, 0.000e+00, 1.000e+00]),\n",
       " array([7.69825257e-05, 1.41929142e-01, 2.83781302e-01, 4.25633462e-01,\n",
       "        5.67485622e-01, 7.09337782e-01, 8.51189942e-01, 9.93042102e-01,\n",
       "        1.13489426e+00, 1.27674642e+00, 1.41859858e+00, 1.56045074e+00,\n",
       "        1.70230290e+00, 1.84415506e+00, 1.98600722e+00, 2.12785938e+00,\n",
       "        2.26971154e+00, 2.41156370e+00, 2.55341586e+00, 2.69526802e+00,\n",
       "        2.83712018e+00, 2.97897234e+00, 3.12082450e+00, 3.26267666e+00,\n",
       "        3.40452882e+00, 3.54638098e+00, 3.68823314e+00, 3.83008530e+00,\n",
       "        3.97193746e+00, 4.11378962e+00, 4.25564178e+00, 4.39749394e+00,\n",
       "        4.53934610e+00, 4.68119826e+00, 4.82305042e+00, 4.96490258e+00,\n",
       "        5.10675474e+00, 5.24860690e+00, 5.39045906e+00, 5.53231122e+00,\n",
       "        5.67416338e+00, 5.81601554e+00, 5.95786770e+00, 6.09971986e+00,\n",
       "        6.24157202e+00, 6.38342418e+00, 6.52527634e+00, 6.66712850e+00,\n",
       "        6.80898066e+00, 6.95083282e+00, 7.09268498e+00, 7.23453714e+00,\n",
       "        7.37638930e+00, 7.51824146e+00, 7.66009362e+00, 7.80194578e+00,\n",
       "        7.94379794e+00, 8.08565010e+00, 8.22750226e+00, 8.36935442e+00,\n",
       "        8.51120658e+00, 8.65305874e+00, 8.79491090e+00, 8.93676306e+00,\n",
       "        9.07861522e+00, 9.22046738e+00, 9.36231954e+00, 9.50417170e+00,\n",
       "        9.64602386e+00, 9.78787602e+00, 9.92972818e+00, 1.00715803e+01,\n",
       "        1.02134325e+01, 1.03552847e+01, 1.04971368e+01, 1.06389890e+01,\n",
       "        1.07808411e+01, 1.09226933e+01, 1.10645455e+01, 1.12063976e+01,\n",
       "        1.13482498e+01, 1.14901019e+01, 1.16319541e+01, 1.17738063e+01,\n",
       "        1.19156584e+01, 1.20575106e+01, 1.21993627e+01, 1.23412149e+01,\n",
       "        1.24830671e+01, 1.26249192e+01, 1.27667714e+01, 1.29086235e+01,\n",
       "        1.30504757e+01, 1.31923279e+01, 1.33341800e+01, 1.34760322e+01,\n",
       "        1.36178843e+01, 1.37597365e+01, 1.39015887e+01, 1.40434408e+01,\n",
       "        1.41852930e+01]),\n",
       " <BarContainer object of 100 artists>)"
      ]
     },
     "execution_count": 26,
     "metadata": {},
     "output_type": "execute_result"
    },
    {
     "data": {
      "image/png": "[encoded data removed]",
      "text/plain": [
       "<Figure size 432x288 with 1 Axes>"
      ]
     },
     "metadata": {
      "needs_background": "light"
     },
     "output_type": "display_data"
    }
   ],
   "source": [
    "plt.hist(d, bins=100)"
   ]
  }
 ],
 "metadata": {
  "kernelspec": {
   "display_name": "Python 3 (ipykernel)",
   "language": "python",
   "name": "python3"
  },
  "language_info": {
   "codemirror_mode": {
    "name": "ipython",
    "version": 3
   },
   "file_extension": ".py",
   "mimetype": "text/x-python",
   "name": "python",
   "nbconvert_exporter": "python",
   "pygments_lexer": "ipython3",
   "version": "3.9.12"
  }
 },
 "nbformat": 4,
 "nbformat_minor": 4
}
