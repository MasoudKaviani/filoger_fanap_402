{
 "cells": [
  {
   "cell_type": "code",
   "execution_count": 1,
   "id": "991be958",
   "metadata": {},
   "outputs": [
    {
     "name": "stdout",
     "output_type": "stream",
     "text": [
      "The required sample size is: 16553\n"
     ]
    }
   ],
   "source": [
    "import math\n",
    "\n",
    "def sample_size_calculator(population_size, confidence_level, margin_of_error):\n",
    "    z_score = {\n",
    "        0.90: 1.645,\n",
    "        0.95: 1.96,\n",
    "        0.99: 2.576\n",
    "    }\n",
    "    \n",
    "    z = z_score[confidence_level]\n",
    "    p = 0.5 # assuming 50% for a conservative estimate of the sample size\n",
    "    q = 1 - p\n",
    "    \n",
    "    sample_size = ((z**2) * p * q * population_size) / ((z**2 * q) + ((margin_of_error**2) * (population_size - 1)))\n",
    "    return math.ceil(sample_size)\n",
    "\n",
    "# example usage\n",
    "pop_size = 15000000\n",
    "conf_level = 0.99\n",
    "margin_err = 0.01\n",
    "\n",
    "sample_size = sample_size_calculator(pop_size, conf_level, margin_err)\n",
    "print(f\"The required sample size is: {sample_size}\")"
   ]
  },
  {
   "cell_type": "code",
   "execution_count": 2,
   "id": "75151680",
   "metadata": {},
   "outputs": [],
   "source": [
    "#MasoudKaviani.ir"
   ]
  }
 ],
 "metadata": {
  "kernelspec": {
   "display_name": "Python 3 (ipykernel)",
   "language": "python",
   "name": "python3"
  },
  "language_info": {
   "codemirror_mode": {
    "name": "ipython",
    "version": 3
   },
   "file_extension": ".py",
   "mimetype": "text/x-python",
   "name": "python",
   "nbconvert_exporter": "python",
   "pygments_lexer": "ipython3",
   "version": "3.11.3"
  }
 },
 "nbformat": 4,
 "nbformat_minor": 5
}
