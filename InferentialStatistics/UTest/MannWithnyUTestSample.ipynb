{
 "cells": [
  {
   "cell_type": "code",
   "execution_count": 7,
   "id": "66669649-ad72-4537-b66c-299c64d335a0",
   "metadata": {},
   "outputs": [],
   "source": [
    "from scipy import stats\n",
    "import numpy as np"
   ]
  },
  {
   "cell_type": "code",
   "execution_count": 12,
   "id": "8fde2842-5d96-4b48-9dbb-2e2025065d43",
   "metadata": {},
   "outputs": [],
   "source": [
    "g1 = [20, 23, 21, 25, 18, 17, 18, 24, 20, 24, 23, 19]\n",
    "g2 = [24, 25, 21, 22, 23, 28, 24, 27, 21, 23]"
   ]
  },
  {
   "cell_type": "code",
   "execution_count": 13,
   "id": "94cf3760-f948-49ab-b49f-0a02a06d24a7",
   "metadata": {},
   "outputs": [
    {
     "name": "stdout",
     "output_type": "stream",
     "text": [
      "21.0\n",
      "23.8\n"
     ]
    }
   ],
   "source": [
    "print(np.mean(g1))\n",
    "print(np.mean(g2))"
   ]
  },
  {
   "cell_type": "code",
   "execution_count": 14,
   "id": "5b443be5-4752-4fa1-b450-9909ce3e2ce7",
   "metadata": {},
   "outputs": [
    {
     "data": {
      "text/plain": [
       "MannwhitneyuResult(statistic=28.5, pvalue=0.039413690126797137)"
      ]
     },
     "execution_count": 14,
     "metadata": {},
     "output_type": "execute_result"
    }
   ],
   "source": [
    "stats.mannwhitneyu(g1, g2, alternative='two-sided')"
   ]
  },
  {
   "cell_type": "code",
   "execution_count": 15,
   "id": "4bdf9d9b-3c36-432a-9ea6-2c402c0958f2",
   "metadata": {},
   "outputs": [
    {
     "data": {
      "text/plain": [
       "MannwhitneyuResult(statistic=28.5, pvalue=0.9832603592232242)"
      ]
     },
     "execution_count": 15,
     "metadata": {},
     "output_type": "execute_result"
    }
   ],
   "source": [
    "stats.mannwhitneyu(g1, g2, alternative='greater')"
   ]
  },
  {
   "cell_type": "code",
   "execution_count": 16,
   "id": "e2fae5c3-894d-4018-8a74-85b719c1e94c",
   "metadata": {},
   "outputs": [
    {
     "data": {
      "text/plain": [
       "MannwhitneyuResult(statistic=28.5, pvalue=0.019706845063398568)"
      ]
     },
     "execution_count": 16,
     "metadata": {},
     "output_type": "execute_result"
    }
   ],
   "source": [
    "stats.mannwhitneyu(g1, g2, alternative='less')"
   ]
  },
  {
   "cell_type": "code",
   "execution_count": 6,
   "id": "a82d32e1-11bd-4aa8-bf3a-21a2d2bc3d59",
   "metadata": {},
   "outputs": [],
   "source": [
    "# Masoud Kaviani"
   ]
  }
 ],
 "metadata": {
  "kernelspec": {
   "display_name": "Python 3 (ipykernel)",
   "language": "python",
   "name": "python3"
  },
  "language_info": {
   "codemirror_mode": {
    "name": "ipython",
    "version": 3
   },
   "file_extension": ".py",
   "mimetype": "text/x-python",
   "name": "python",
   "nbconvert_exporter": "python",
   "pygments_lexer": "ipython3",
   "version": "3.11.3"
  }
 },
 "nbformat": 4,
 "nbformat_minor": 5
}
