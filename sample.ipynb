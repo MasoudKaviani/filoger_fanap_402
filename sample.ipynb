{
 "cells": [
  {
   "cell_type": "code",
   "execution_count": 1,
   "id": "71640ad3",
   "metadata": {},
   "outputs": [],
   "source": [
    "drivers = [\n",
    "    [100, 9.1],\n",
    "    [20, 9.2],\n",
    "    [80, 8.9]\n",
    "]"
   ]
  },
  {
   "cell_type": "code",
   "execution_count": 2,
   "id": "e36596f9",
   "metadata": {},
   "outputs": [
    {
     "name": "stdout",
     "output_type": "stream",
     "text": [
      "[[100, 9.1], [20, 9.2], [80, 8.9]]\n"
     ]
    }
   ],
   "source": [
    "print(drivers)"
   ]
  },
  {
   "cell_type": "code",
   "execution_count": null,
   "id": "945c1f9f",
   "metadata": {},
   "outputs": [],
   "source": []
  }
 ],
 "metadata": {
  "kernelspec": {
   "display_name": "Python 3 (ipykernel)",
   "language": "python",
   "name": "python3"
  },
  "language_info": {
   "codemirror_mode": {
    "name": "ipython",
    "version": 3
   },
   "file_extension": ".py",
   "mimetype": "text/x-python",
   "name": "python",
   "nbconvert_exporter": "python",
   "pygments_lexer": "ipython3",
   "version": "3.11.3"
  }
 },
 "nbformat": 4,
 "nbformat_minor": 5
}
